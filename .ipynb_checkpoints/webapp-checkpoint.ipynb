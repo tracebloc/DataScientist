{
 "cells": [
  {
   "cell_type": "markdown",
   "id": "public-perception",
   "metadata": {},
   "source": [
    "## Welcome to Training Neural Nets Globally"
   ]
  },
  {
   "cell_type": "code",
   "execution_count": 1,
   "id": "numeric-constant",
   "metadata": {
    "scrolled": true
   },
   "outputs": [],
   "source": [
    "from tracebloc import User, Model, TrainingPlan"
   ]
  },
  {
   "cell_type": "markdown",
   "id": "93329aec",
   "metadata": {},
   "source": [
    "### 1. Login & Security Token"
   ]
  },
  {
   "cell_type": "code",
   "execution_count": 9,
   "id": "d31c8fff",
   "metadata": {
    "scrolled": true
   },
   "outputs": [
    {
     "name": "stdout",
     "output_type": "stream",
     "text": [
      "Login successful.\n",
      "\n",
      "\n"
     ]
    }
   ],
   "source": [
    "# Enter your Tracebloc username and password to login\n",
    "# Note : wait until Login successful message received \n",
    "user = User(\"datascientist\",\"&6edg*D9e\")"
   ]
  },
  {
   "cell_type": "code",
   "execution_count": 10,
   "id": "133cdb9d",
   "metadata": {
    "scrolled": true
   },
   "outputs": [
    {
     "name": "stdout",
     "output_type": "stream",
     "text": [
      "Token received.\n",
      "\n",
      "\n"
     ]
    }
   ],
   "source": [
    "# Get token after logged in \n",
    "token = user.getToken()"
   ]
  },
  {
   "cell_type": "markdown",
   "id": "brilliant-access",
   "metadata": {},
   "source": [
    "### 2. Upload Model File & Weights File"
   ]
  },
  {
   "cell_type": "code",
   "execution_count": 11,
   "id": "meaning-professional",
   "metadata": {
    "scrolled": false
   },
   "outputs": [
    {
     "name": "stdout",
     "output_type": "stream",
     "text": [
      "Upload successful.\n",
      "\n",
      "\n"
     ]
    }
   ],
   "source": [
    "\"\"\"\n",
    "Naming convention for files: \n",
    "If model file name is \"model.py\", \n",
    "then the weights file should be named as \"model_weights.pkl\".\n",
    "\"\"\"\n",
    "# Upload model and weights file\n",
    "# Note : wait until Upload successfull message received \n",
    "upload = Model('model', token)"
   ]
  },
  {
   "cell_type": "code",
   "execution_count": 12,
   "id": "426a7426",
   "metadata": {},
   "outputs": [
    {
     "name": "stdout",
     "output_type": "stream",
     "text": [
      "41341456-13fd-4ae2-bea3-e8df545230d0_model\n"
     ]
    }
   ],
   "source": [
    "# Get Model id\n",
    "model_id = upload.getNewModelId()"
   ]
  },
  {
   "cell_type": "markdown",
   "id": "d7c16a36",
   "metadata": {},
   "source": [
    "### 3. Set Training Plan"
   ]
  },
  {
   "cell_type": "code",
   "execution_count": 13,
   "id": "03c08e31",
   "metadata": {},
   "outputs": [],
   "source": [
    "# creating a training plan and assign data set\n",
    "trainingPlan = TrainingPlan(model_id, 'DhYXSj80', token)"
   ]
  },
  {
   "cell_type": "code",
   "execution_count": 16,
   "id": "dc9c09e8",
   "metadata": {},
   "outputs": [
    {
     "name": "stdout",
     "output_type": "stream",
     "text": [
      " \u001b[1mTraining Parameters\u001b[0m\n",
      "\n",
      " objective: \n",
      " name: Wings Defects\n",
      " modelType: Simple CNN\n",
      " category: Classification\n",
      " datasetId: DhYXSj80\n",
      " epochs: 50\n",
      " cycles: 10\n",
      " optimizer: adam\n",
      " lossFunction: categorical_crossentropy\n",
      " learningRate: 0.001\n",
      " stepsPerEpoch: None\n",
      " initialEpoch: 0\n",
      " validationSteps: None\n",
      " batchSize: 8\n",
      " metrics: ['accuracy']\n",
      " \n",
      " \u001b[1mAugmentation Parameters\u001b[0m\n",
      "\n",
      " featurewise_center: False\n",
      " samplewise_center: False\n",
      " featurewise_std_normalization': False\n",
      " samplewise_std_normalization': False\n",
      " zca_whitening': False\n",
      " rotation_range': 0\n",
      " width_shift_range': 0.0\n",
      " height_shift_range': 0.0\n",
      " brightness_range': None\n",
      " shear_range': 0.0\n",
      " zoom_range': 0.0\n",
      " channel_shift_range': 0.0\n",
      " fill_mode': nearest\n",
      " cval': 0.0\n",
      " horizontal_flip': False\n",
      " vertical_flip': False\n",
      " rescale': None\n",
      " data_format': None\n",
      " validation_split': 0.1\n",
      " dtype': None\n",
      " shuffle': True\n",
      " layersTrained': []\n",
      "\n"
     ]
    }
   ],
   "source": [
    "# look up and validate you training plan \n",
    "trainingPlan.getTrainingPlan()"
   ]
  },
  {
   "cell_type": "code",
   "execution_count": 15,
   "id": "576eba7d",
   "metadata": {},
   "outputs": [],
   "source": [
    "# set training and augmentation parameters\n",
    "# ExperimentName, ExperimentCategory, ModelType are compulsory to create training Plan\n",
    "trainingPlan.setExperimentName(\"Wings Defects\")\n",
    "trainingPlan.setExperimentCategory(\"Classification\")\n",
    "trainingPlan.setModelType(\"Simple CNN\")\n",
    "trainingPlan.setCycles(10)\n",
    "trainingPlan.setEpochs(50)\n",
    "trainingPlan.setBatchSize(8)"
   ]
  },
  {
   "cell_type": "markdown",
   "id": "435d919c",
   "metadata": {},
   "source": [
    "### 4. Start Training"
   ]
  },
  {
   "cell_type": "code",
   "execution_count": 17,
   "id": "3df4bf40",
   "metadata": {
    "scrolled": false
   },
   "outputs": [
    {
     "name": "stdout",
     "output_type": "stream",
     "text": [
      "TrainingPlan created\n",
      "with experiment_id:139\n",
      "\n",
      "Training request sent....\n",
      "Updated weights will be available to download once training completed\n"
     ]
    }
   ],
   "source": [
    "# call create to start Training\n",
    "# Note : wait until TrainingPlan created message received \n",
    "trainingPlan.create()"
   ]
  }
 ],
 "metadata": {
  "kernelspec": {
   "display_name": "Python 3 (ipykernel)",
   "language": "python",
   "name": "python3"
  },
  "language_info": {
   "codemirror_mode": {
    "name": "ipython",
    "version": 3
   },
   "file_extension": ".py",
   "mimetype": "text/x-python",
   "name": "python",
   "nbconvert_exporter": "python",
   "pygments_lexer": "ipython3",
   "version": "3.8.6"
  }
 },
 "nbformat": 4,
 "nbformat_minor": 5
}
