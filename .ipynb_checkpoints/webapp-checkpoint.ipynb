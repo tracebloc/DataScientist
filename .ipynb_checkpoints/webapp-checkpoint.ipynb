{
 "cells": [
  {
   "cell_type": "markdown",
   "id": "public-perception",
   "metadata": {},
   "source": [
    "## Welcome to Training Neural Nets Globally"
   ]
  },
  {
   "cell_type": "code",
   "execution_count": 26,
   "id": "numeric-constant",
   "metadata": {
    "scrolled": true
   },
   "outputs": [],
   "source": [
    "from tracebloc import User, Model, TrainingPlan"
   ]
  },
  {
   "cell_type": "markdown",
   "id": "93329aec",
   "metadata": {},
   "source": [
    "### 1. Login & Security Token"
   ]
  },
  {
   "cell_type": "code",
   "execution_count": 28,
   "id": "d31c8fff",
   "metadata": {
    "scrolled": true
   },
   "outputs": [
    {
     "name": "stdout",
     "output_type": "stream",
     "text": [
      "\n",
      "\n",
      "Provide a valid username and password\n",
      "\n",
      "\n",
      "Error in logging in:: \n"
     ]
    }
   ],
   "source": [
    "#enter your Tracebloc username and password to login\n",
    "user = User(\"datascientist\",\"&6edg*D9\")"
   ]
  },
  {
   "cell_type": "code",
   "execution_count": 29,
   "id": "133cdb9d",
   "metadata": {},
   "outputs": [],
   "source": [
    "#Get token after logged in \n",
    "token = user.getToken()"
   ]
  },
  {
   "cell_type": "markdown",
   "id": "brilliant-access",
   "metadata": {},
   "source": [
    "### 2. Upload Model File & Weights File"
   ]
  },
  {
   "cell_type": "code",
   "execution_count": 30,
   "id": "meaning-professional",
   "metadata": {
    "scrolled": false
   },
   "outputs": [
    {
     "name": "stdout",
     "output_type": "stream",
     "text": [
      "\n",
      "\n",
      "Error uploading\n"
     ]
    }
   ],
   "source": [
    "# model & weight ; follow convention ; same directory\n",
    "upload = Model('model',token)"
   ]
  },
  {
   "cell_type": "code",
   "execution_count": 9,
   "id": "426a7426",
   "metadata": {},
   "outputs": [],
   "source": [
    "# model_id , print the id in output\n",
    "model_name = upload.getNewModelName()"
   ]
  },
  {
   "cell_type": "markdown",
   "id": "d7c16a36",
   "metadata": {},
   "source": [
    "### 3. Set Training Plan"
   ]
  },
  {
   "cell_type": "code",
   "execution_count": 12,
   "id": "03c08e31",
   "metadata": {},
   "outputs": [],
   "source": [
    "# creating a training plan and assign data set / (model_id, data_set_id, token)\n",
    "trainingPlan = TrainingPlan(81, model_name,token)"
   ]
  },
  {
   "cell_type": "code",
   "execution_count": 31,
   "id": "dc9c09e8",
   "metadata": {},
   "outputs": [
    {
     "data": {
      "text/plain": [
       "{'message': 'training',\n",
       " 'datasetId': 81,\n",
       " 'epochs': 10,\n",
       " 'cycles': 2,\n",
       " 'modelName': 'a0878308-bfe6-42d6-a41f-9e22f57e443f_model',\n",
       " 'optimizer': 'adam',\n",
       " 'lossFunction': 'categorical_crossentropy',\n",
       " 'learningRate': 0.001,\n",
       " 'stepsPerEpoch': 'None',\n",
       " 'initialEpoch': 0,\n",
       " 'validationSteps': 'None',\n",
       " 'batchSize': 32,\n",
       " 'featurewise_center': False,\n",
       " 'samplewise_center': False,\n",
       " 'featurewise_std_normalization': False,\n",
       " 'samplewise_std_normalization': False,\n",
       " 'zca_whitening': False,\n",
       " 'rotation_range': 0,\n",
       " 'width_shift_range': 0.0,\n",
       " 'height_shift_range': 0.0,\n",
       " 'brightness_range': 'None',\n",
       " 'shear_range': 0.0,\n",
       " 'zoom_range': 0.0,\n",
       " 'channel_shift_range': 0.0,\n",
       " 'fill_mode': 'nearest',\n",
       " 'cval': 0.0,\n",
       " 'horizontal_flip': False,\n",
       " 'vertical_flip': False,\n",
       " 'rescale': 'None',\n",
       " 'data_format': 'channels_first',\n",
       " 'validation_split': 0.1,\n",
       " 'dtype': 'None',\n",
       " 'shuffle': True,\n",
       " 'layersTrained': '[]',\n",
       " 'metrics': \"['accuracy']\",\n",
       " 'objective': 'Classifify different defects using xray images with VGGNET',\n",
       " 'name': 'Industrial common defects',\n",
       " 'modelType': 'Simple',\n",
       " 'category': 'Classification'}"
      ]
     },
     "execution_count": 31,
     "metadata": {},
     "output_type": "execute_result"
    }
   ],
   "source": [
    "# look up and validate you training plan \n",
    "trainingPlan.getParameters()"
   ]
  },
  {
   "cell_type": "code",
   "execution_count": null,
   "id": "576eba7d",
   "metadata": {},
   "outputs": [],
   "source": [
    "# set training and augmentation parameters\n",
    "trainingPlan.setDataFormat('channels_first')"
   ]
  },
  {
   "cell_type": "markdown",
   "id": "435d919c",
   "metadata": {},
   "source": [
    "### 4. Start Training"
   ]
  },
  {
   "cell_type": "code",
   "execution_count": 26,
   "id": "3df4bf40",
   "metadata": {
    "scrolled": false
   },
   "outputs": [
    {
     "name": "stdout",
     "output_type": "stream",
     "text": [
      "TrainingPlan created\n",
      "with experiment_id:125\n",
      "\n",
      "Training request sent....\n",
      "Updated weights will be available to download once training completed\n"
     ]
    }
   ],
   "source": [
    "trainingPlan.create()"
   ]
  }
 ],
 "metadata": {
  "kernelspec": {
   "display_name": "Python 3 (ipykernel)",
   "language": "python",
   "name": "python3"
  },
  "language_info": {
   "codemirror_mode": {
    "name": "ipython",
    "version": 3
   },
   "file_extension": ".py",
   "mimetype": "text/x-python",
   "name": "python",
   "nbconvert_exporter": "python",
   "pygments_lexer": "ipython3",
   "version": "3.7.6"
  }
 },
 "nbformat": 4,
 "nbformat_minor": 5
}
