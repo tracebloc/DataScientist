{
 "cells": [
  {
   "cell_type": "markdown",
   "id": "public-perception",
   "metadata": {},
   "source": [
    "## Welcome to Training Neural Nets Globally"
   ]
  },
  {
   "cell_type": "code",
   "execution_count": null,
   "id": "numeric-constant",
   "metadata": {
    "scrolled": true
   },
   "outputs": [],
   "source": [
    "from tracebloc import User, Model, TrainingPlan"
   ]
  },
  {
   "cell_type": "markdown",
   "id": "93329aec",
   "metadata": {},
   "source": [
    "### 1. Login & Security Token"
   ]
  },
  {
   "cell_type": "code",
   "execution_count": null,
   "id": "d31c8fff",
   "metadata": {
    "scrolled": true
   },
   "outputs": [],
   "source": [
    "# Enter your Tracebloc username and password to login\n",
    "# Note : wait until Login successful message received \n",
    "user = User(\"datascientist\",\"&6edg*D9e\")"
   ]
  },
  {
   "cell_type": "code",
   "execution_count": null,
   "id": "133cdb9d",
   "metadata": {
    "scrolled": true
   },
   "outputs": [],
   "source": [
    "# Get token after logged in \n",
    "token = user.getToken()"
   ]
  },
  {
   "cell_type": "markdown",
   "id": "brilliant-access",
   "metadata": {},
   "source": [
    "### 2. Upload Model File & Weights File"
   ]
  },
  {
   "cell_type": "code",
   "execution_count": null,
   "id": "meaning-professional",
   "metadata": {
    "scrolled": false
   },
   "outputs": [],
   "source": [
    "\"\"\"\n",
    "Naming convention for files: \n",
    "If model file name is \"model.py\", \n",
    "then the weights file should be named as \"model_weights.pkl\".\n",
    "\"\"\"\n",
    "# Upload model and weights file\n",
    "# Note : wait until Upload successfull message received \n",
    "upload = Model('ResNet-50_v2', token)"
   ]
  },
  {
   "cell_type": "code",
   "execution_count": null,
   "id": "426a7426",
   "metadata": {},
   "outputs": [],
   "source": [
    "# Get Model id\n",
    "model_id = upload.getNewModelId()"
   ]
  },
  {
   "cell_type": "markdown",
   "id": "d7c16a36",
   "metadata": {},
   "source": [
    "### 3. Set Training Plan"
   ]
  },
  {
   "cell_type": "code",
   "execution_count": null,
   "id": "03c08e31",
   "metadata": {},
   "outputs": [],
   "source": [
    "# creating a training plan and assign data set\n",
    "trainingPlan = TrainingPlan(model_id, 'DkRcmP79', token)"
   ]
  },
  {
   "cell_type": "code",
   "execution_count": null,
   "id": "dc9c09e8",
   "metadata": {},
   "outputs": [],
   "source": [
    "# look up and validate you training plan \n",
    "trainingPlan.getTrainingPlan()"
   ]
  },
  {
   "cell_type": "code",
   "execution_count": null,
   "id": "576eba7d",
   "metadata": {},
   "outputs": [],
   "source": [
    "# set training and augmentation parameters\n",
    "# ExperimentName, ExperimentCategory, ModelType are compulsory to create training Plan\n",
    "trainingPlan.setExperimentName(\"Wings Defects\")\n",
    "trainingPlan.setExperimentCategory(\"Classification\")\n",
    "trainingPlan.setModelType(\"ResNet-50\")\n",
    "trainingPlan.setCycles(2)\n",
    "trainingPlan.setEpochs(10)\n",
    "trainingPlan.setBatchSize(8)"
   ]
  },
  {
   "cell_type": "markdown",
   "id": "435d919c",
   "metadata": {},
   "source": [
    "### 4. Start Training"
   ]
  },
  {
   "cell_type": "code",
   "execution_count": null,
   "id": "3df4bf40",
   "metadata": {
    "scrolled": false
   },
   "outputs": [],
   "source": [
    "# call create to start Training\n",
    "# Note : wait until TrainingPlan created message received \n",
    "trainingPlan.create()"
   ]
  }
 ],
 "metadata": {
  "kernelspec": {
   "display_name": "Python 3 (ipykernel)",
   "language": "python",
   "name": "python3"
  },
  "language_info": {
   "codemirror_mode": {
    "name": "ipython",
    "version": 3
   },
   "file_extension": ".py",
   "mimetype": "text/x-python",
   "name": "python",
   "nbconvert_exporter": "python",
   "pygments_lexer": "ipython3",
   "version": "3.8.6"
  }
 },
 "nbformat": 4,
 "nbformat_minor": 5
}
