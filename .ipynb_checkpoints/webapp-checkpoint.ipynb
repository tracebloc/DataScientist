{
 "cells": [
  {
   "cell_type": "markdown",
   "id": "agricultural-defendant",
   "metadata": {},
   "source": [
    "### Import some useful libraries"
   ]
  },
  {
   "cell_type": "code",
   "execution_count": 1,
   "id": "secret-median",
   "metadata": {},
   "outputs": [],
   "source": [
    "import requests\n",
    "import json\n",
    "import getpass, os"
   ]
  },
  {
   "cell_type": "code",
   "execution_count": 2,
   "id": "downtown-payment",
   "metadata": {},
   "outputs": [],
   "source": [
    "def get_Token(username, password):\n",
    "    '''Function to get Token for username provided'''\n",
    "    try:\n",
    "        url = \"https://xray-backend.azurewebsites.net/api-token-auth/\"\n",
    "        r = requests.post(url, data = {\"username\": username, \"password\": password})\n",
    "\n",
    "        if r.status_code != 200:\n",
    "            print(\"###################################################\")\n",
    "            print(\"###################################################\")\n",
    "            print(\"Provide a valid username and password.....\")\n",
    "            print(\"###################################################\")\n",
    "            print(\"###################################################\")\n",
    "        else:\n",
    "\n",
    "            print(\"###################################################\")\n",
    "            print(\"###################################################\")\n",
    "            print(\"Authorized.....\")\n",
    "            print(\"###################################################\")\n",
    "            print(\"###################################################\")\n",
    "\n",
    "        token = json.loads(r.text)['token']\n",
    "    \n",
    "    except Exception as e:\n",
    "        \n",
    "        print(\"Error in logging in:: \" + str(e))\n",
    "        raise Exception(e)\n",
    "\n",
    "    return token"
   ]
  },
  {
   "cell_type": "markdown",
   "id": "public-perception",
   "metadata": {},
   "source": [
    "### Login with Datascientist Id and password"
   ]
  },
  {
   "cell_type": "code",
   "execution_count": 3,
   "id": "numeric-constant",
   "metadata": {},
   "outputs": [
    {
     "name": "stdout",
     "output_type": "stream",
     "text": [
      "Enter UserID\n",
      "datascientist\n",
      "Enter password...\n",
      "········\n",
      "###################################################\n",
      "###################################################\n",
      "Authorized.....\n",
      "###################################################\n",
      "###################################################\n"
     ]
    }
   ],
   "source": [
    "token = \"\"\n",
    "while len(token) == 0:\n",
    "    \n",
    "    user = input(\"Enter UserID\\n\")\n",
    "    password = getpass.getpass(\"Enter password...\\n\")\n",
    "    token = get_Token(user,password)\n"
   ]
  },
  {
   "cell_type": "markdown",
   "id": "posted-error",
   "metadata": {},
   "source": [
    "### Upload model file and weights to the server before training"
   ]
  },
  {
   "cell_type": "code",
   "execution_count": 4,
   "id": "african-marking",
   "metadata": {},
   "outputs": [
    {
     "name": "stdout",
     "output_type": "stream",
     "text": [
      "Make sure model file and weights are in current directory !\n",
      "###################################################\n",
      "###################################################\n",
      "Enter your model file name here eg: vggnet....\n",
      "model\n",
      "###################################################\n",
      "###################################################\n",
      "###################################################\n",
      "###################################################\n",
      "Model file uploaded.....\n",
      "###################################################\n",
      "###################################################\n",
      "Weights uploaded....\n"
     ]
    }
   ],
   "source": [
    "print(\"Make sure model file and weights are in current directory !\")\n",
    "print(\"###################################################\")\n",
    "print(\"###################################################\")\n",
    "model_name = input(\"Enter your model file name here eg: vggnet....\\n\")\n",
    "print(\"###################################################\")\n",
    "print(\"###################################################\")\n",
    "\n",
    "#Upload/Send model file to the server\n",
    "\n",
    "url_model = 'http://127.0.0.1:8000/upload/'\n",
    "# url_model = 'https://xray-backend.azurewebsites.net/upload/'\n",
    "header = {'Authorization' : f\"Token {token}\"}\n",
    "files = {'upload_file': open(f'{model_name}.py','rb')}\n",
    "values = {'path': \"global_model/files/\",\"filename\": f\"{model_name}.py\"}\n",
    "r = requests.post(url_model, headers = header, files=files, data=values)\n",
    "if r.status_code == 200:\n",
    "    print(\"###################################################\")\n",
    "    print(\"###################################################\")\n",
    "    print(\"Model file uploaded.....\")\n",
    "else:\n",
    "    print(\"###################################################\")\n",
    "    print(\"###################################################\")\n",
    "    print(\"Error uploading....\")\n",
    "\n",
    "#Upload/Send model weights to the server\n",
    "url_weights = 'http://127.0.0.1:8000/upload/'\n",
    "# url_weights = 'https://xray-backend.azurewebsites.net/upload/'\n",
    "header = {'Authorization' : f\"Token {token}\"}\n",
    "files = {'upload_file': open(f'{model_name}_weights.pkl','rb')}\n",
    "values = {'path': \"global_model/files/\",\"filename\": f\"{model_name}_weights.pkl\"}\n",
    "r = requests.post(url_weights, headers = header, files=files, data=values)\n",
    "if r.status_code == 200:\n",
    "    print(\"###################################################\")\n",
    "    print(\"###################################################\")\n",
    "    print(\"Weights uploaded....\")\n",
    "else:\n",
    "    print(\"###################################################\")\n",
    "    print(\"###################################################\")\n",
    "    print(\"Error uploading....\")"
   ]
  },
  {
   "cell_type": "markdown",
   "id": "willing-davis",
   "metadata": {},
   "source": [
    "### Send training plan to the server"
   ]
  },
  {
   "cell_type": "code",
   "execution_count": 16,
   "id": "national-attribute",
   "metadata": {
    "scrolled": true
   },
   "outputs": [
    {
     "name": "stdout",
     "output_type": "stream",
     "text": [
      "Provide parameters to train your model..\n",
      "###################################################\n",
      "###################################################\n",
      "Enter datasetId\n",
      " default: 0\t46\n",
      "Enter modelName\n",
      " default: model\t\n",
      "Enter optimizer\n",
      " default: adam\t\n",
      "Enter layers_non_trainable\n",
      " default: ['None']\t\n",
      "Enter callbacks\n",
      " default: None\t\n",
      "Enter lossFunction\n",
      " default: binary_crossentropy\t\n",
      "Enter metrics\n",
      " default: accuracy\t\n",
      "Enter learningRate\n",
      " default: 1e-2\t\n",
      "Enter epochs\n",
      " default: 1\t10\n",
      "Enter stepsPerEpoch\n",
      " default: None\t5\n",
      "Enter initialEpoch\n",
      " default: 0\t\n",
      "Enter cycles\n",
      " default: 1\t\n",
      "Enter validationSteps\n",
      " default: None\t\n",
      "Enter batchSize\n",
      " default: 16\t8\n",
      "Enter featurewise_center\n",
      " default: False\tTrue\n",
      "Enter samplewise_center\n",
      " default: False\tTrue\n",
      "Enter featurewise_std_normalization\n",
      " default: False\tTrue\n",
      "Enter samplewise_std_normalization\n",
      " default: False\tTrue\n",
      "Enter zca_whitening\n",
      " default: False\tTrue\n",
      "Enter zca_epsilon\n",
      " default: 1e-06\t\n",
      "Enter rotation_range\n",
      " default: 0\t2\n",
      "Enter width_shift_range\n",
      " default: 0.0\t0.2\n",
      "Enter height_shift_range\n",
      " default: 0.0\t0.2\n",
      "Enter brightness_range\n",
      " default: None\t\n",
      "Enter shear_range\n",
      " default: 0.0\t0.1\n",
      "Enter zoom_range\n",
      " default: 0.0\t0.5\n",
      "Enter channel_shift_range\n",
      " default: 0.0\t0.2\n",
      "Enter fill_mode\n",
      " default: nearest\t\n",
      "Enter cval\n",
      " default: 0.0\t0.1\n",
      "Enter horizontal_flip\n",
      " default: False\tTrue\n",
      "Enter vertical_flip\n",
      " default: False\tTrue\n",
      "Enter rescale\n",
      " default: None\t0.00392156862745098\n",
      "Enter data_format\n",
      " default: None\t\n",
      "Enter validation_split\n",
      " default: 0.0\t\n",
      "Enter dtype\n",
      " default: None\t\n",
      "Enter shuffle\n",
      " default: True\t\n",
      "###################################################\n",
      "###################################################\n",
      "Training request sent....\n",
      "Updated weights will be available to download once training completed\n"
     ]
    }
   ],
   "source": [
    "print(\"Provide parameters to train your model..\")\n",
    "print(\"###################################################\")\n",
    "print(\"###################################################\")\n",
    "\n",
    "parameters = {'message':'training',\n",
    "              \"datasetId\":0,\"modelName\":'model',\"optimizer\":'adam',\"layers_non_trainable\":['None'],\n",
    "              \"callbacks\":'None',\"lossFunction\":'binary_crossentropy',\"metrics\":'accuracy',\n",
    "              \"learningRate\":'1e-2',\"epochs\":1,\"stepsPerEpoch\":'None',\"initialEpoch\":0,\n",
    "              \"cycles\":1,\"validationSteps\":'None',\"batchSize\":16,\"featurewise_center\":False,\n",
    "              \"samplewise_center\":False,\"featurewise_std_normalization\":False,\n",
    "              \"samplewise_std_normalization\":False,\"zca_whitening\":False,\n",
    "              \"zca_epsilon\":'1e-06',\"rotation_range\":0,\"width_shift_range\":0.0,\n",
    "              \"height_shift_range\":0.0,\"brightness_range\":'None',\n",
    "              \"shear_range\":0.0,\"zoom_range\":0.0,\"channel_shift_range\":0.0,\n",
    "              \"fill_mode\":\"nearest\",\"cval\":0.0,\"horizontal_flip\":False,\n",
    "              \"vertical_flip\":False,\"rescale\":'None',\"data_format\":'None',\n",
    "              \"validation_split\":0.0,\"dtype\":'None',\"shuffle\":True}\n",
    "    \n",
    "        \n",
    "for i in parameters.keys():\n",
    "    inp = ''\n",
    "    if i != \"message\":\n",
    "        \n",
    "        inp = input(f\"Enter {i}\\n default: {parameters[i]}\\t\")\n",
    "        \n",
    "    if inp:\n",
    "        parameters[i] = inp\n",
    "\n",
    "\n",
    "#Send training request to server\n",
    "url = \"http://127.0.0.1:8000/training/\"\n",
    "# url = \"https://xray-backend.azurewebsites.net/training/\"\n",
    "header = {'Authorization' : f\"Token {token}\"}\n",
    "r = requests.post(url, headers = header, data = parameters )\n",
    "if r.status_code == 200:\n",
    "    print(\"###################################################\")\n",
    "    print(\"###################################################\")\n",
    "    print(\"Training request sent....\\nUpdated weights will be available to download once training completed\")\n",
    "else:\n",
    "    print(r.status_code)\n",
    "    print(\"###################################################\")\n",
    "    print(\"###################################################\")\n",
    "    print(\"Error in connecting with server....\")"
   ]
  }
 ],
 "metadata": {
  "kernelspec": {
   "display_name": "Python 3",
   "language": "python",
   "name": "python3"
  },
  "language_info": {
   "codemirror_mode": {
    "name": "ipython",
    "version": 3
   },
   "file_extension": ".py",
   "mimetype": "text/x-python",
   "name": "python",
   "nbconvert_exporter": "python",
   "pygments_lexer": "ipython3",
   "version": "3.8.6"
  }
 },
 "nbformat": 4,
 "nbformat_minor": 5
}
