{
 "cells": [
  {
   "cell_type": "markdown",
   "id": "81eecdd6",
   "metadata": {},
   "source": [
    "### Generate Weights"
   ]
  },
  {
   "cell_type": "code",
   "execution_count": null,
   "id": "10056885",
   "metadata": {},
   "outputs": [],
   "source": [
    "from tracebloc_package import ModelWeights"
   ]
  },
  {
   "cell_type": "code",
   "execution_count": null,
   "id": "6bcc8615",
   "metadata": {},
   "outputs": [],
   "source": [
    "weights = ModelWeights() # load module and Enter model file name"
   ]
  },
  {
   "cell_type": "code",
   "execution_count": null,
   "id": "97c9f85a",
   "metadata": {},
   "outputs": [],
   "source": [
    "weights.generateweights() # generate weights"
   ]
  },
  {
   "cell_type": "code",
   "execution_count": null,
   "id": "ee7cd1f1",
   "metadata": {},
   "outputs": [],
   "source": [
    "weights.checkweights() # check if weights file are properly generated"
   ]
  },
  {
   "cell_type": "code",
   "execution_count": null,
   "id": "2eb7a796",
   "metadata": {},
   "outputs": [],
   "source": []
  }
 ],
 "metadata": {
  "kernelspec": {
   "display_name": "Python 3",
   "language": "python",
   "name": "python3"
  },
  "language_info": {
   "codemirror_mode": {
    "name": "ipython",
    "version": 3
   },
   "file_extension": ".py",
   "mimetype": "text/x-python",
   "name": "python",
   "nbconvert_exporter": "python",
   "pygments_lexer": "ipython3",
   "version": "3.8.12"
  }
 },
 "nbformat": 4,
 "nbformat_minor": 5
}
