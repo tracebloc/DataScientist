{
 "cells": [
  {
   "cell_type": "markdown",
   "id": "public-perception",
   "metadata": {},
   "source": [
    "## Guide to train machine learning models on Tracebloc"
   ]
  },
  {
   "cell_type": "markdown",
   "id": "fe54c7a7",
   "metadata": {},
   "source": [
    "In this five step guide, you will learn how to train your ML models on Tracebloc's privacy-preserving ML infrastructure.\n",
    "\n",
    "With that \n",
    "\n",
    "* you get access large data sets.\n",
    "* collaborate with peers to build high-performance models.\n",
    "* participate in enterprise competitions.\n",
    "\n",
    "You can create experiments using either your **local machine** or **google colab**. To do so:\n",
    "\n",
    "* You should have access to [Tracebloc](https://xray.tracebloc.io/).\n",
    "* You should be an owner or member of a data set.\n"
   ]
  },
  {
   "cell_type": "markdown",
   "id": "a141f90f",
   "metadata": {},
   "source": [
    "### 1. Connect to Tracebloc"
   ]
  },
  {
   "cell_type": "code",
   "execution_count": null,
   "id": "numeric-constant",
   "metadata": {
    "scrolled": true
   },
   "outputs": [],
   "source": [
    "from tracebloc_package import User # package used for authentification, model upload, custom training plan, and more"
   ]
  },
  {
   "cell_type": "code",
   "execution_count": null,
   "id": "d31c8fff",
   "metadata": {
    "scrolled": true
   },
   "outputs": [],
   "source": [
    "user = User() # enter your Tracebloc username and password to login."
   ]
  },
  {
   "cell_type": "markdown",
   "id": "brilliant-access",
   "metadata": {},
   "source": [
    "### 2. Upload Model & Weights File"
   ]
  },
  {
   "cell_type": "markdown",
   "id": "4c9994f2",
   "metadata": {},
   "source": [
    "*   The model and weights file you would like to use should be present in Colab Files. If missing please upload the same.\n",
    "*   *Naming convention*: If model file name is \"model.py\", \n",
    "then the weights file should be named as \"model_weights.pkl\".\n",
    "*   *Arugments*: \"*weights = True*\", for providing pre trained weights for the same model.\n",
    "*   *Note*: Please wait until upload successful message is received."
   ]
  },
  {
   "cell_type": "code",
   "execution_count": null,
   "id": "meaning-professional",
   "metadata": {
    "scrolled": true
   },
   "outputs": [],
   "source": [
    "user.uploadModel('CNN') # (model, weights=True)"
   ]
  },
  {
   "cell_type": "markdown",
   "id": "d7c16a36",
   "metadata": {},
   "source": [
    "### 3. Link Model with Dataset"
   ]
  },
  {
   "cell_type": "markdown",
   "id": "21772887",
   "metadata": {},
   "source": [
    "This step links the above model with provided dataset. The model should be [compatible](https://tracebloc.io) with the dataset."
   ]
  },
  {
   "cell_type": "code",
   "execution_count": null,
   "id": "03c08e31",
   "metadata": {},
   "outputs": [],
   "source": [
    "trainingObject = user.linkModelDataset('D3UlYAPJ') # link dataset to uploaded model in previous step"
   ]
  },
  {
   "cell_type": "markdown",
   "id": "be2ac917",
   "metadata": {},
   "source": [
    "### 4. Set Training Plan"
   ]
  },
  {
   "cell_type": "markdown",
   "id": "1f102be2",
   "metadata": {},
   "source": [
    "Configurate your training parameter with:\n",
    "\n",
    "> `trainingObject.parameter_name(value)`\n",
    "\n",
    "Check your training plan with:\n",
    "\n",
    "> `trainingObject.getTrainingPlan()`\n",
    "\n",
    "The values are as per tensorflow [standard parameters](https://www.tensorflow.org/api_docs/python/tf/keras/Model#fit) value. \n",
    "\n",
    "*Note*: name, modelType, and category are mandatory fields."
   ]
  },
  {
   "cell_type": "code",
   "execution_count": null,
   "id": "dc9c09e8",
   "metadata": {
    "scrolled": false
   },
   "outputs": [],
   "source": [
    "trainingObject.objective(\"Try it out! name, modelType, and category are mandatory fields\")\n",
    "trainingObject.getTrainingPlan()"
   ]
  },
  {
   "cell_type": "markdown",
   "id": "435d919c",
   "metadata": {},
   "source": [
    "### 5. Start Training"
   ]
  },
  {
   "cell_type": "code",
   "execution_count": null,
   "id": "3df4bf40",
   "metadata": {
    "scrolled": true
   },
   "outputs": [],
   "source": [
    "trainingObject.create() # start the experiment as configured above"
   ]
  },
  {
   "cell_type": "markdown",
   "id": "b67859de",
   "metadata": {},
   "source": [
    "### Logout"
   ]
  },
  {
   "cell_type": "code",
   "execution_count": null,
   "id": "c81f6d7d",
   "metadata": {},
   "outputs": [],
   "source": [
    "user.logout()"
   ]
  }
 ],
 "metadata": {
  "kernelspec": {
   "display_name": "Python 3",
   "language": "python",
   "name": "python3"
  },
  "language_info": {
   "codemirror_mode": {
    "name": "ipython",
    "version": 3
   },
   "file_extension": ".py",
   "mimetype": "text/x-python",
   "name": "python",
   "nbconvert_exporter": "python",
   "pygments_lexer": "ipython3",
   "version": "3.8.12"
  }
 },
 "nbformat": 4,
 "nbformat_minor": 5
}
