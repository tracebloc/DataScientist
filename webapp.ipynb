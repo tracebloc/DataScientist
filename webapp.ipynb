{
 "cells": [
  {
   "cell_type": "markdown",
   "id": "public-perception",
   "metadata": {},
   "source": [
    "## Welcome to Training Neural Nets Globally"
   ]
  },
  {
   "cell_type": "code",
   "execution_count": 1,
   "id": "numeric-constant",
   "metadata": {
    "scrolled": true
   },
   "outputs": [],
   "source": [
    "from tracebloc import User, Model, TrainingPlan"
   ]
  },
  {
   "cell_type": "markdown",
   "id": "93329aec",
   "metadata": {},
   "source": [
    "### 1. Login & Security Token"
   ]
  },
  {
   "cell_type": "code",
   "execution_count": 2,
   "id": "d31c8fff",
   "metadata": {
    "scrolled": true
   },
   "outputs": [
    {
     "name": "stdout",
     "output_type": "stream",
     "text": [
      "Enter Username shujaatds\n",
      "Enter Password ········\n",
      "Login successful.\n",
      "\n",
      "\n"
     ]
    }
   ],
   "source": [
    "# Enter your Tracebloc username and password to login\n",
    "# Note : wait until Login successful message received \n",
    "user = User()"
   ]
  },
  {
   "cell_type": "code",
   "execution_count": 3,
   "id": "133cdb9d",
   "metadata": {
    "scrolled": true
   },
   "outputs": [
    {
     "name": "stdout",
     "output_type": "stream",
     "text": [
      "Token received.\n",
      "\n",
      "\n"
     ]
    }
   ],
   "source": [
    "# Get token after logged in \n",
    "token = user.getToken()"
   ]
  },
  {
   "cell_type": "code",
   "execution_count": 4,
   "id": "a860412b",
   "metadata": {},
   "outputs": [
    {
     "data": {
      "text/plain": [
       "'a83af2937c19f78051f2de86f76eb075e83d2745'"
      ]
     },
     "execution_count": 4,
     "metadata": {},
     "output_type": "execute_result"
    }
   ],
   "source": [
    "token"
   ]
  },
  {
   "cell_type": "markdown",
   "id": "brilliant-access",
   "metadata": {},
   "source": [
    "### 2. Upload Model File & Weights File"
   ]
  },
  {
   "cell_type": "code",
   "execution_count": 36,
   "id": "meaning-professional",
   "metadata": {
    "scrolled": false
   },
   "outputs": [
    {
     "name": "stdout",
     "output_type": "stream",
     "text": [
      "Upload successful.\n",
      "\n",
      "\n"
     ]
    }
   ],
   "source": [
    "\"\"\"\n",
    "Naming convention for files: \n",
    "If model file name is \"model.py\", \n",
    "then the weights file should be named as \"model_weights.pkl\".\n",
    "\"\"\"\n",
    "# Upload model and weights file\n",
    "# Note : wait until Upload successfull message received \n",
    "upload = Model('CNN', token)"
   ]
  },
  {
   "cell_type": "code",
   "execution_count": 49,
   "id": "426a7426",
   "metadata": {
    "scrolled": false
   },
   "outputs": [
    {
     "name": "stdout",
     "output_type": "stream",
     "text": [
      "8c3996e0-61a2-43aa-a1ae-ee402cb664e2_CNN\n"
     ]
    }
   ],
   "source": [
    "# Get Model id\n",
    "model_id = upload.getNewModelId()"
   ]
  },
  {
   "cell_type": "markdown",
   "id": "d7c16a36",
   "metadata": {},
   "source": [
    "### 3. Set Training Plan"
   ]
  },
  {
   "cell_type": "code",
   "execution_count": 50,
   "id": "03c08e31",
   "metadata": {},
   "outputs": [
    {
     "name": "stdout",
     "output_type": "stream",
     "text": [
      "{'status': 'failed'}\n",
      "Please ensure that modelid provided have same output clases as in dataset \n",
      "and input shape match the below condition:\n",
      "For medical--> (None, 224, 224, 3)\n",
      "For industrial--> (None, 48, 48, 3)\n"
     ]
    }
   ],
   "source": [
    "# creating a training plan and assign data set\n",
    "# Note : wait until message \n",
    "trainingPlan = TrainingPlan(model_id, 'DeJmI130', token)"
   ]
  },
  {
   "cell_type": "code",
   "execution_count": 51,
   "id": "dc9c09e8",
   "metadata": {},
   "outputs": [
    {
     "name": "stdout",
     "output_type": "stream",
     "text": [
      " \u001b[1mTraining Parameters\u001b[0m\n",
      "\n",
      " objective: \n",
      " name: \n",
      " modelType: \n",
      " category: \n",
      " datasetId: DeJmI130\n",
      " epochs: 10\n",
      " cycles: 1\n",
      " optimizer: adam\n",
      " lossFunction: categorical_crossentropy\n",
      " learningRate: 0.001\n",
      " stepsPerEpoch: None\n",
      " initialEpoch: 0\n",
      " validationSteps: None\n",
      " batchSize: 32\n",
      " metrics: ['accuracy']\n",
      " \n",
      " \u001b[1mAugmentation Parameters\u001b[0m\n",
      "\n",
      " featurewise_center: False\n",
      " samplewise_center: False\n",
      " featurewise_std_normalization': False\n",
      " samplewise_std_normalization': False\n",
      " zca_whitening': False\n",
      " rotation_range': 0\n",
      " width_shift_range': 0.0\n",
      " height_shift_range': 0.0\n",
      " brightness_range': None\n",
      " shear_range': 0.0\n",
      " zoom_range': 0.0\n",
      " channel_shift_range': 0.0\n",
      " fill_mode': nearest\n",
      " cval': 0.0\n",
      " horizontal_flip': False\n",
      " vertical_flip': False\n",
      " rescale': None\n",
      " data_format': None\n",
      " validation_split': 0.1\n",
      " dtype': None\n",
      " shuffle': True\n",
      " layersTrained': \n",
      " earlystopCallback': {}\n",
      " reducelrCallback': {}\n",
      "\n"
     ]
    }
   ],
   "source": [
    "# look up and validate you training plan \n",
    "trainingPlan.getTrainingPlan()"
   ]
  },
  {
   "cell_type": "code",
   "execution_count": 52,
   "id": "576eba7d",
   "metadata": {},
   "outputs": [],
   "source": [
    "# set training and augmentation parameters\n",
    "# ExperimentName, ExperimentCategory, ModelType are compulsory to create training Plan\n",
    "trainingPlan.setExperimentName(\"130 identification\")\n",
    "trainingPlan.setExperimentCategory(\"Classification\")\n",
    "trainingPlan.setModelType(\"MobileNet+CNN\")\n",
    "trainingPlan.setCycles(2)\n",
    "trainingPlan.setEpochs(1)\n",
    "trainingPlan.setValidationSplit(0.2)\n",
    "trainingPlan.set\n",
    "# trainingPlan.setBatchSize(16)\n",
    "# trainingPlan.setRescale(0.0039)\n",
    "# trainingPlan.setFeaturewiseCenter(False)\n",
    "# trainingPlan.setearlystopCallback('loss',2)\n",
    "# trainingPlan.setReducelrCallback('loss',0.1,5,0.0001)"
   ]
  },
  {
   "cell_type": "markdown",
   "id": "e769a59d",
   "metadata": {},
   "source": [
    "### 4. Estimate Training Time"
   ]
  },
  {
   "cell_type": "code",
   "execution_count": 53,
   "id": "f49cc493",
   "metadata": {
    "scrolled": true
   },
   "outputs": [
    {
     "name": "stdout",
     "output_type": "stream",
     "text": [
      "It will take around 7 minutes, 18 seconds to complete 2 cycles for given training plan.\n"
     ]
    }
   ],
   "source": [
    "# call getEstimate to calculate total training time\n",
    "# Note : wait until message received \n",
    "trainingPlan.getEstimate()"
   ]
  },
  {
   "cell_type": "markdown",
   "id": "435d919c",
   "metadata": {},
   "source": [
    "### 5. Start Training"
   ]
  },
  {
   "cell_type": "code",
   "execution_count": 54,
   "id": "3df4bf40",
   "metadata": {
    "scrolled": true
   },
   "outputs": [
    {
     "name": "stdout",
     "output_type": "stream",
     "text": [
      "TrainingPlan created\n",
      "with experiment_id:313\n",
      "\n",
      "Training request sent....\n",
      "Updated weights will be available to download once training completed\n"
     ]
    }
   ],
   "source": [
    "# call create to start Training\n",
    "# Note : wait until TrainingPlan created message received \n",
    "trainingPlan.create()"
   ]
  },
  {
   "cell_type": "code",
   "execution_count": null,
   "id": "6947012b",
   "metadata": {},
   "outputs": [],
   "source": []
  },
  {
   "cell_type": "code",
   "execution_count": null,
   "id": "74be1286",
   "metadata": {},
   "outputs": [],
   "source": []
  },
  {
   "cell_type": "code",
   "execution_count": null,
   "id": "e989ce8f",
   "metadata": {},
   "outputs": [],
   "source": []
  },
  {
   "cell_type": "code",
   "execution_count": null,
   "id": "1222d91f",
   "metadata": {},
   "outputs": [],
   "source": []
  }
 ],
 "metadata": {
  "kernelspec": {
   "display_name": "Python 3 (ipykernel)",
   "language": "python",
   "name": "python3"
  },
  "language_info": {
   "codemirror_mode": {
    "name": "ipython",
    "version": 3
   },
   "file_extension": ".py",
   "mimetype": "text/x-python",
   "name": "python",
   "nbconvert_exporter": "python",
   "pygments_lexer": "ipython3",
   "version": "3.8.6"
  }
 },
 "nbformat": 4,
 "nbformat_minor": 5
}
