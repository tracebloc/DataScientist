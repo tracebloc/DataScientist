{
 "cells": [
  {
   "cell_type": "markdown",
   "id": "public-perception",
   "metadata": {},
   "source": [
    "### Login with Datascientist Id and password"
   ]
  },
  {
   "cell_type": "code",
   "execution_count": 1,
   "id": "numeric-constant",
   "metadata": {
    "scrolled": true
   },
   "outputs": [],
   "source": [
    "from tracebloc import User,Model,TrainingPlan"
   ]
  },
  {
   "cell_type": "code",
   "execution_count": 2,
   "id": "d31c8fff",
   "metadata": {
    "scrolled": true
   },
   "outputs": [
    {
     "name": "stdout",
     "output_type": "stream",
     "text": [
      "\n",
      "\n",
      "Logged in\n",
      "\n",
      "\n"
     ]
    }
   ],
   "source": [
    "user = User(\"datascientist\",\"&6edg*D9e\")"
   ]
  },
  {
   "cell_type": "code",
   "execution_count": 3,
   "id": "133cdb9d",
   "metadata": {},
   "outputs": [],
   "source": [
    "#Get token after logged in \n",
    "token = user.getToken()"
   ]
  },
  {
   "cell_type": "markdown",
   "id": "brilliant-access",
   "metadata": {},
   "source": [
    "### Upload model file and weights"
   ]
  },
  {
   "cell_type": "code",
   "execution_count": 4,
   "id": "meaning-professional",
   "metadata": {
    "scrolled": false
   },
   "outputs": [
    {
     "name": "stdout",
     "output_type": "stream",
     "text": [
      "\n",
      "\n",
      "files uploaded\n"
     ]
    }
   ],
   "source": [
    "upload = Model('vggnet',token)"
   ]
  },
  {
   "cell_type": "code",
   "execution_count": 5,
   "id": "426a7426",
   "metadata": {},
   "outputs": [],
   "source": [
    "model_name= upload.getNewModelName()"
   ]
  },
  {
   "cell_type": "markdown",
   "id": "d7c16a36",
   "metadata": {},
   "source": [
    "### Set Training Plan"
   ]
  },
  {
   "cell_type": "code",
   "execution_count": 6,
   "id": "03c08e31",
   "metadata": {},
   "outputs": [],
   "source": [
    "trainingPlan = TrainingPlan(80,model_name,token)"
   ]
  },
  {
   "cell_type": "code",
   "execution_count": 9,
   "id": "cb09f096",
   "metadata": {},
   "outputs": [],
   "source": [
    "trainingPlan.setLearningrate(0.0001)"
   ]
  },
  {
   "cell_type": "code",
   "execution_count": 10,
   "id": "dc9c09e8",
   "metadata": {},
   "outputs": [
    {
     "data": {
      "text/plain": [
       "{'message': 'training',\n",
       " 'datasetId': 80,\n",
       " 'epochs': 100,\n",
       " 'cycles': 5,\n",
       " 'modelName': '75eaadfe-76b3-42ac-a377-68d87fb41076_vggnet',\n",
       " 'optimizer': 'adam',\n",
       " 'lossFunction': 'categorical_crossentropy',\n",
       " 'learningRate': 0.0001,\n",
       " 'stepsPerEpoch': 'None',\n",
       " 'initialEpoch': 0,\n",
       " 'validationSteps': 'None',\n",
       " 'batchSize': 32,\n",
       " 'featurewise_center': False,\n",
       " 'samplewise_center': False,\n",
       " 'featurewise_std_normalization': False,\n",
       " 'samplewise_std_normalization': False,\n",
       " 'zca_whitening': False,\n",
       " 'rotation_range': 0,\n",
       " 'width_shift_range': 0.0,\n",
       " 'height_shift_range': 0.0,\n",
       " 'brightness_range': 'None',\n",
       " 'shear_range': 0.0,\n",
       " 'zoom_range': 0.0,\n",
       " 'channel_shift_range': 0.0,\n",
       " 'fill_mode': 'nearest',\n",
       " 'cval': 0.0,\n",
       " 'horizontal_flip': False,\n",
       " 'vertical_flip': False,\n",
       " 'rescale': 'None',\n",
       " 'data_format': 'None',\n",
       " 'validation_split': 0.1,\n",
       " 'dtype': 'None',\n",
       " 'shuffle': True,\n",
       " 'layersTrained': '[]',\n",
       " 'metrics': \"['accuracy']\"}"
      ]
     },
     "execution_count": 10,
     "metadata": {},
     "output_type": "execute_result"
    }
   ],
   "source": [
    "trainingPlan.getParameters()"
   ]
  },
  {
   "cell_type": "markdown",
   "id": "435d919c",
   "metadata": {},
   "source": [
    "### Create Training Plan and start experiment"
   ]
  },
  {
   "cell_type": "code",
   "execution_count": 11,
   "id": "3df4bf40",
   "metadata": {
    "scrolled": false
   },
   "outputs": [
    {
     "name": "stdout",
     "output_type": "stream",
     "text": [
      "TrainingPlan created\n",
      "with experiment_id:120\n",
      "\n",
      "Training request sent....\n",
      "Updated weights will be available to download once training completed\n"
     ]
    }
   ],
   "source": [
    "trainingPlan.create()"
   ]
  }
 ],
 "metadata": {
  "kernelspec": {
   "display_name": "Python 3 (ipykernel)",
   "language": "python",
   "name": "python3"
  },
  "language_info": {
   "codemirror_mode": {
    "name": "ipython",
    "version": 3
   },
   "file_extension": ".py",
   "mimetype": "text/x-python",
   "name": "python",
   "nbconvert_exporter": "python",
   "pygments_lexer": "ipython3",
   "version": "3.8.6"
  }
 },
 "nbformat": 4,
 "nbformat_minor": 5
}
