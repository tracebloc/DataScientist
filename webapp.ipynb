{
 "cells": [
  {
   "cell_type": "markdown",
   "id": "public-perception",
   "metadata": {},
   "source": [
    "## Welcome to Training Neural Nets Globally"
   ]
  },
  {
   "cell_type": "code",
<<<<<<< HEAD
   "execution_count": null,
=======
   "execution_count": 26,
>>>>>>> a23448b911e07f7f093abcd732a056f9633534d0
   "id": "numeric-constant",
   "metadata": {
    "scrolled": true
   },
   "outputs": [],
   "source": [
    "from tracebloc import User, Model, TrainingPlan"
   ]
  },
  {
   "cell_type": "markdown",
   "id": "93329aec",
   "metadata": {},
   "source": [
    "### 1. Login & Security Token"
   ]
  },
  {
   "cell_type": "code",
<<<<<<< HEAD
   "execution_count": null,
=======
   "execution_count": 28,
>>>>>>> a23448b911e07f7f093abcd732a056f9633534d0
   "id": "d31c8fff",
   "metadata": {
    "scrolled": true
   },
<<<<<<< HEAD
   "outputs": [],
=======
   "outputs": [
    {
     "name": "stdout",
     "output_type": "stream",
     "text": [
      "\n",
      "\n",
      "Provide a valid username and password\n",
      "\n",
      "\n",
      "Error in logging in:: \n"
     ]
    }
   ],
>>>>>>> a23448b911e07f7f093abcd732a056f9633534d0
   "source": [
    "#enter your Tracebloc username and password to login\n",
    "user = User(\"datascientist\",\"&6edg*D9\")"
   ]
  },
  {
   "cell_type": "code",
<<<<<<< HEAD
   "execution_count": null,
=======
   "execution_count": 29,
>>>>>>> a23448b911e07f7f093abcd732a056f9633534d0
   "id": "133cdb9d",
   "metadata": {},
   "outputs": [],
   "source": [
    "#Get token after logged in \n",
    "token = user.getToken()"
   ]
  },
  {
   "cell_type": "markdown",
   "id": "brilliant-access",
   "metadata": {},
   "source": [
    "### 2. Upload Model File & Weights File"
   ]
  },
  {
   "cell_type": "code",
<<<<<<< HEAD
   "execution_count": null,
=======
   "execution_count": 30,
>>>>>>> a23448b911e07f7f093abcd732a056f9633534d0
   "id": "meaning-professional",
   "metadata": {
    "scrolled": false
   },
<<<<<<< HEAD
   "outputs": [],
=======
   "outputs": [
    {
     "name": "stdout",
     "output_type": "stream",
     "text": [
      "\n",
      "\n",
      "Error uploading\n"
     ]
    }
   ],
>>>>>>> a23448b911e07f7f093abcd732a056f9633534d0
   "source": [
    "# model & weight ; follow convention ; same directory\n",
    "upload = Model('model',token)"
   ]
  },
  {
   "cell_type": "code",
<<<<<<< HEAD
   "execution_count": null,
=======
   "execution_count": 9,
>>>>>>> a23448b911e07f7f093abcd732a056f9633534d0
   "id": "426a7426",
   "metadata": {},
   "outputs": [],
   "source": [
    "# model_id , print the id in output\n",
    "model_name = upload.getNewModelName()"
   ]
  },
  {
   "cell_type": "markdown",
   "id": "d7c16a36",
   "metadata": {},
   "source": [
    "### 3. Set Training Plan"
   ]
  },
  {
   "cell_type": "code",
<<<<<<< HEAD
   "execution_count": null,
=======
   "execution_count": 12,
>>>>>>> a23448b911e07f7f093abcd732a056f9633534d0
   "id": "03c08e31",
   "metadata": {},
   "outputs": [],
   "source": [
<<<<<<< HEAD
    "trainingPlan = TrainingPlan(80,model_name,token)"
   ]
  },
  {
   "cell_type": "code",
   "execution_count": null,
   "id": "cb09f096",
   "metadata": {},
   "outputs": [],
   "source": [
    "trainingPlan.setExperimentObjective(\"Classifify different defects using xray images with VGGNET\")"
   ]
  },
  {
   "cell_type": "code",
   "execution_count": null,
   "id": "855b9bde",
   "metadata": {},
   "outputs": [],
   "source": [
    "trainingPlan.setModelType('VGGNET')"
   ]
  },
  {
   "cell_type": "code",
   "execution_count": null,
   "id": "0fca2a95",
   "metadata": {},
   "outputs": [],
   "source": [
    "trainingPlan.setExperimentName(\"Industrial common defects\")\n",
    "trainingPlan.setExperimentCategory(\"Classification\")\n",
    "trainingPlan.setCycles(2)"
=======
    "# creating a training plan and assign data set / (model_id, data_set_id, token)\n",
    "trainingPlan = TrainingPlan(81, model_name,token)"
>>>>>>> a23448b911e07f7f093abcd732a056f9633534d0
   ]
  },
  {
   "cell_type": "code",
<<<<<<< HEAD
   "execution_count": null,
   "id": "dc9c09e8",
   "metadata": {},
   "outputs": [],
=======
   "execution_count": 31,
   "id": "dc9c09e8",
   "metadata": {},
   "outputs": [
    {
     "data": {
      "text/plain": [
       "{'message': 'training',\n",
       " 'datasetId': 81,\n",
       " 'epochs': 10,\n",
       " 'cycles': 2,\n",
       " 'modelName': 'a0878308-bfe6-42d6-a41f-9e22f57e443f_model',\n",
       " 'optimizer': 'adam',\n",
       " 'lossFunction': 'categorical_crossentropy',\n",
       " 'learningRate': 0.001,\n",
       " 'stepsPerEpoch': 'None',\n",
       " 'initialEpoch': 0,\n",
       " 'validationSteps': 'None',\n",
       " 'batchSize': 32,\n",
       " 'featurewise_center': False,\n",
       " 'samplewise_center': False,\n",
       " 'featurewise_std_normalization': False,\n",
       " 'samplewise_std_normalization': False,\n",
       " 'zca_whitening': False,\n",
       " 'rotation_range': 0,\n",
       " 'width_shift_range': 0.0,\n",
       " 'height_shift_range': 0.0,\n",
       " 'brightness_range': 'None',\n",
       " 'shear_range': 0.0,\n",
       " 'zoom_range': 0.0,\n",
       " 'channel_shift_range': 0.0,\n",
       " 'fill_mode': 'nearest',\n",
       " 'cval': 0.0,\n",
       " 'horizontal_flip': False,\n",
       " 'vertical_flip': False,\n",
       " 'rescale': 'None',\n",
       " 'data_format': 'channels_first',\n",
       " 'validation_split': 0.1,\n",
       " 'dtype': 'None',\n",
       " 'shuffle': True,\n",
       " 'layersTrained': '[]',\n",
       " 'metrics': \"['accuracy']\",\n",
       " 'objective': 'Classifify different defects using xray images with VGGNET',\n",
       " 'name': 'Industrial common defects',\n",
       " 'modelType': 'Simple',\n",
       " 'category': 'Classification'}"
      ]
     },
     "execution_count": 31,
     "metadata": {},
     "output_type": "execute_result"
    }
   ],
>>>>>>> a23448b911e07f7f093abcd732a056f9633534d0
   "source": [
    "# look up and validate you training plan \n",
    "trainingPlan.getParameters()"
   ]
  },
  {
   "cell_type": "code",
   "execution_count": null,
   "id": "576eba7d",
   "metadata": {},
   "outputs": [],
   "source": [
    "# set training and augmentation parameters\n",
    "trainingPlan.setDataFormat('channels_first')"
   ]
  },
  {
   "cell_type": "markdown",
   "id": "435d919c",
   "metadata": {},
   "source": [
    "### 4. Start Training"
   ]
  },
  {
   "cell_type": "code",
   "execution_count": null,
   "id": "3df4bf40",
   "metadata": {
    "scrolled": false
   },
   "outputs": [],
   "source": [
    "trainingPlan.create()"
   ]
  },
  {
   "cell_type": "code",
   "execution_count": 5,
   "id": "9404d816",
   "metadata": {},
   "outputs": [
    {
     "ename": "ValueError",
     "evalue": "This model has not yet been built. Build the model first by calling `build()` or calling `fit()` with some data, or specify an `input_shape` argument in the first layer(s) for automatic build.",
     "output_type": "error",
     "traceback": [
      "\u001b[0;31m---------------------------------------------------------------------------\u001b[0m",
      "\u001b[0;31mValueError\u001b[0m                                Traceback (most recent call last)",
      "\u001b[0;32m/var/folders/jq/r3dcjtg52g9bwnx6_tfsr1lw0000gn/T/ipykernel_5559/3201015165.py\u001b[0m in \u001b[0;36m<module>\u001b[0;34m\u001b[0m\n\u001b[1;32m      1\u001b[0m \u001b[0;32mimport\u001b[0m \u001b[0mmodel\u001b[0m\u001b[0;34m\u001b[0m\u001b[0;34m\u001b[0m\u001b[0m\n\u001b[1;32m      2\u001b[0m \u001b[0mmodel_train\u001b[0m \u001b[0;34m=\u001b[0m \u001b[0mmodel\u001b[0m\u001b[0;34m.\u001b[0m\u001b[0mMyModel\u001b[0m\u001b[0;34m(\u001b[0m\u001b[0;34m)\u001b[0m\u001b[0;34m\u001b[0m\u001b[0;34m\u001b[0m\u001b[0m\n\u001b[0;32m----> 3\u001b[0;31m \u001b[0mmodel_train\u001b[0m\u001b[0;34m.\u001b[0m\u001b[0msummary\u001b[0m\u001b[0;34m(\u001b[0m\u001b[0;34m)\u001b[0m\u001b[0;34m\u001b[0m\u001b[0;34m\u001b[0m\u001b[0m\n\u001b[0m",
      "\u001b[0;32m/opt/homebrew/Caskroom/miniforge/base/envs/ai/lib/python3.8/site-packages/tensorflow/python/keras/engine/training.py\u001b[0m in \u001b[0;36msummary\u001b[0;34m(self, line_length, positions, print_fn)\u001b[0m\n\u001b[1;32m   2374\u001b[0m     \"\"\"\n\u001b[1;32m   2375\u001b[0m     \u001b[0;32mif\u001b[0m \u001b[0;32mnot\u001b[0m \u001b[0mself\u001b[0m\u001b[0;34m.\u001b[0m\u001b[0mbuilt\u001b[0m\u001b[0;34m:\u001b[0m\u001b[0;34m\u001b[0m\u001b[0;34m\u001b[0m\u001b[0m\n\u001b[0;32m-> 2376\u001b[0;31m       raise ValueError('This model has not yet been built. '\n\u001b[0m\u001b[1;32m   2377\u001b[0m                        \u001b[0;34m'Build the model first by calling `build()` or calling '\u001b[0m\u001b[0;34m\u001b[0m\u001b[0;34m\u001b[0m\u001b[0m\n\u001b[1;32m   2378\u001b[0m                        \u001b[0;34m'`fit()` with some data, or specify '\u001b[0m\u001b[0;34m\u001b[0m\u001b[0;34m\u001b[0m\u001b[0m\n",
      "\u001b[0;31mValueError\u001b[0m: This model has not yet been built. Build the model first by calling `build()` or calling `fit()` with some data, or specify an `input_shape` argument in the first layer(s) for automatic build."
     ]
    }
   ],
   "source": [
    "import model\n",
    "model_train = model.MyModel()\n",
    "model_train.summary()"
   ]
  },
  {
   "cell_type": "code",
   "execution_count": null,
   "id": "690c599f",
   "metadata": {},
   "outputs": [],
   "source": [
    "w = model_train.get_weights()\n",
    "output = open('model_weights.pkl', 'wb')\n",
    "pickle.dump(w, output)\n",
    "output.close()"
   ]
  }
 ],
 "metadata": {
  "kernelspec": {
   "display_name": "Python 3 (ipykernel)",
   "language": "python",
   "name": "python3"
  },
  "language_info": {
   "codemirror_mode": {
    "name": "ipython",
    "version": 3
   },
   "file_extension": ".py",
   "mimetype": "text/x-python",
   "name": "python",
   "nbconvert_exporter": "python",
   "pygments_lexer": "ipython3",
   "version": "3.7.6"
  }
 },
 "nbformat": 4,
 "nbformat_minor": 5
}
