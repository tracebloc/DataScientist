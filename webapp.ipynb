{
 "cells": [
  {
   "cell_type": "markdown",
   "id": "public-perception",
   "metadata": {},
   "source": [
    "## Welcome to Training Neural Nets Globally"
   ]
  },
  {
   "cell_type": "code",
   "execution_count": 1,
   "id": "numeric-constant",
   "metadata": {
    "scrolled": true
   },
   "outputs": [],
   "source": [
    "from tracebloc import User, Model, TrainingPlan"
   ]
  },
  {
   "cell_type": "markdown",
   "id": "93329aec",
   "metadata": {},
   "source": [
    "### 1. Login & Security Token"
   ]
  },
  {
   "cell_type": "code",
   "execution_count": 2,
   "id": "d31c8fff",
   "metadata": {
    "scrolled": true
   },
   "outputs": [
    {
     "name": "stdout",
     "output_type": "stream",
     "text": [
      "Enter Username shujaatds\n",
      "Enter Password ········\n",
      "Login successful.\n",
      "\n",
      "\n"
     ]
    }
   ],
   "source": [
    "# Enter your Tracebloc username and password to login\n",
    "# Note : wait until Login successful message received \n",
    "user = User()"
   ]
  },
  {
   "cell_type": "code",
   "execution_count": 3,
   "id": "eb501ef0",
   "metadata": {},
   "outputs": [
    {
     "name": "stdout",
     "output_type": "stream",
     "text": [
      "Token received.\n",
      "\n",
      "\n"
     ]
    }
   ],
   "source": [
    "# Get token after logged in \n",
    "token = user.getToken()"
   ]
  },
  {
   "cell_type": "markdown",
   "id": "brilliant-access",
   "metadata": {},
   "source": [
    "### 2. Upload Model File & Weights File"
   ]
  },
  {
   "cell_type": "code",
   "execution_count": 50,
   "id": "meaning-professional",
   "metadata": {
    "scrolled": false
   },
   "outputs": [
    {
     "name": "stdout",
     "output_type": "stream",
     "text": [
      "Upload successful.\n",
      "\n",
      "\n"
     ]
    }
   ],
   "source": [
    "\"\"\"\n",
    "Naming convention for files: \n",
    "If model file name is \"model.py\", \n",
    "then the weights file should be named as \"model_weights.pkl\".\n",
    "\"\"\"\n",
    "# Upload model and weights file\n",
    "# Note : wait until Upload successfull message received \n",
    "upload = Model('small_network', token)"
   ]
  },
  {
   "cell_type": "code",
   "execution_count": 51,
   "id": "426a7426",
   "metadata": {
    "scrolled": false
   },
   "outputs": [
    {
     "name": "stdout",
     "output_type": "stream",
     "text": [
      "943967c2-af9b-4223-bc17-e9ee99a357b3_small_network\n"
     ]
    }
   ],
   "source": [
    "# Get Model id\n",
    "model_id = upload.getNewModelId()"
   ]
  },
  {
   "cell_type": "markdown",
   "id": "d7c16a36",
   "metadata": {},
   "source": [
    "### 3. Set Training Plan"
   ]
  },
  {
   "cell_type": "code",
   "execution_count": 52,
   "id": "03c08e31",
   "metadata": {},
   "outputs": [
    {
     "name": "stdout",
     "output_type": "stream",
     "text": [
      "{'status': 'passed'}\n",
      "Model and dataset selected, please set parameters\n"
     ]
    }
   ],
   "source": [
    "# creating a training plan and assign data set\n",
    "# Note : wait until message \n",
    "trainingPlan = TrainingPlan(model_id, 'DQCE9tJj', token)"
   ]
  },
  {
   "cell_type": "code",
   "execution_count": 53,
   "id": "dc9c09e8",
   "metadata": {
    "scrolled": false
   },
   "outputs": [
    {
     "name": "stdout",
     "output_type": "stream",
     "text": [
      " \u001b[1mTraining Parameters\u001b[0m\n",
      "\n",
      " objective: \n",
      " name: \n",
      " modelType: \n",
      " category: \n",
      " datasetId: DQCE9tJj\n",
      " epochs: 10\n",
      " cycles: 1\n",
      " optimizer: adam\n",
      " lossFunction: categorical_crossentropy\n",
      " learningRate: 0.001\n",
      " stepsPerEpoch: None\n",
      " initialEpoch: 0\n",
      " validationSteps: None\n",
      " batchSize: 32\n",
      " metrics: ['accuracy']\n",
      " layersTrained': \n",
      " earlystopCallback': {}\n",
      " reducelrCallback': {}\n",
      " modelCheckpointCallback': {}\n",
      " terminateOnNaNCallback': {}\n",
      " \n",
      " \u001b[1mAugmentation Parameters\u001b[0m\n",
      "\n",
      " featurewise_center: False\n",
      " samplewise_center: False\n",
      " featurewise_std_normalization': False\n",
      " samplewise_std_normalization': False\n",
      " zca_whitening': False\n",
      " rotation_range': 0\n",
      " width_shift_range': 0.0\n",
      " height_shift_range': 0.0\n",
      " brightness_range': None\n",
      " shear_range': 0.0\n",
      " zoom_range': 0.0\n",
      " channel_shift_range': 0.0\n",
      " fill_mode': nearest\n",
      " cval': 0.0\n",
      " horizontal_flip': False\n",
      " vertical_flip': False\n",
      " rescale': None\n",
      " data_format': None\n",
      " validation_split': 0.1\n",
      " dtype': None\n",
      " shuffle': True\n",
      "\n"
     ]
    }
   ],
   "source": [
    "# look up and validate you training plan \n",
    "trainingPlan.getTrainingPlan()"
   ]
  },
  {
   "cell_type": "code",
   "execution_count": 54,
   "id": "576eba7d",
   "metadata": {},
   "outputs": [],
   "source": [
    "# set training and augmentation parameters\n",
    "# ExperimentName, ExperimentCategory, ModelType are compulsory to create training Plan\n",
    "trainingPlan.setExperimentName(\"prediction of six classes\")\n",
    "trainingPlan.setExperimentObjective(\"To learn with less capacity model\")\n",
    "trainingPlan.setExperimentCategory(\"Classification\")\n",
    "trainingPlan.setModelType(\"small network\")\n",
    "trainingPlan.setCycles(3)\n",
    "trainingPlan.setEpochs(10)\n",
    "trainingPlan.setValidationSplit(0.3)\n",
    "\n",
    "#set callbacks\n",
    "trainingPlan.setTerminateOnNaNCallback()\n",
    "# trainingPlan.setModelCheckpointCallback('val_loss',True)\n",
    "# trainingPlan.setEarlystopCallback('val_loss',1)\n",
    "# trainingPlan.setReducelrCallback('val_loss',0.1,1,0.00001)"
   ]
  },
  {
   "cell_type": "markdown",
   "id": "e769a59d",
   "metadata": {},
   "source": [
    "### 4. Estimate Training Time"
   ]
  },
  {
   "cell_type": "code",
   "execution_count": 55,
   "id": "f49cc493",
   "metadata": {
    "scrolled": true
   },
   "outputs": [
    {
     "name": "stdout",
     "output_type": "stream",
     "text": [
      "It will take around 21 seconds to complete 3 cycles for given training plan.\n"
     ]
    }
   ],
   "source": [
    "# call getEstimate to calculate total training time\n",
    "# Note : wait until message received \n",
    "trainingPlan.getEstimate()"
   ]
  },
  {
   "cell_type": "markdown",
   "id": "435d919c",
   "metadata": {},
   "source": [
    "### 5. Start Training"
   ]
  },
  {
   "cell_type": "code",
   "execution_count": 57,
   "id": "3df4bf40",
   "metadata": {
    "scrolled": true
   },
   "outputs": [
    {
     "name": "stdout",
     "output_type": "stream",
     "text": [
      "TrainingPlan created\n",
      "with experiment_id:424\n",
      "\n",
      "Training request sent....\n",
      "Updated weights will be available to download once training completed\n"
     ]
    }
   ],
   "source": [
    "# call create to start Training\n",
    "# Note : wait until TrainingPlan created message received \n",
    "trainingPlan.create()"
   ]
  },
  {
   "cell_type": "code",
   "execution_count": null,
   "id": "6947012b",
   "metadata": {},
   "outputs": [],
   "source": []
  },
  {
   "cell_type": "code",
   "execution_count": null,
   "id": "c15fc0ba",
   "metadata": {},
   "outputs": [],
   "source": []
  },
  {
   "cell_type": "code",
   "execution_count": 48,
   "id": "22202453",
   "metadata": {},
   "outputs": [],
   "source": []
  }
 ],
 "metadata": {
  "kernelspec": {
   "display_name": "Python 3 (ipykernel)",
   "language": "python",
   "name": "python3"
  },
  "language_info": {
   "codemirror_mode": {
    "name": "ipython",
    "version": 3
   },
   "file_extension": ".py",
   "mimetype": "text/x-python",
   "name": "python",
   "nbconvert_exporter": "python",
   "pygments_lexer": "ipython3",
   "version": "3.8.6"
  }
 },
 "nbformat": 4,
 "nbformat_minor": 5
}
