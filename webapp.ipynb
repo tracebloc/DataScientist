{
 "cells": [
  {
   "cell_type": "markdown",
   "id": "public-perception",
   "metadata": {},
   "source": [
    "## Welcome to Training Neural Nets Globally"
   ]
  },
  {
   "cell_type": "code",
   "execution_count": 1,
   "id": "numeric-constant",
   "metadata": {
    "scrolled": true
   },
   "outputs": [],
   "source": [
    "from tracebloc import User"
   ]
  },
  {
   "cell_type": "markdown",
   "id": "93329aec",
   "metadata": {},
   "source": [
    "### 1. Login & Security Token"
   ]
  },
  {
   "cell_type": "code",
   "execution_count": 2,
   "id": "d31c8fff",
   "metadata": {
    "scrolled": true
   },
   "outputs": [
    {
     "name": "stdout",
     "output_type": "stream",
     "text": [
      "Enter Username shujaatds\n",
      "Enter Password ········\n",
      "Login successful.\n",
      "\n",
      "\n"
     ]
    }
   ],
   "source": [
    "# Enter your Tracebloc username and password to login\n",
    "# Note : wait until Login successful message received \n",
    "user = User()"
   ]
  },
  {
   "cell_type": "markdown",
   "id": "brilliant-access",
   "metadata": {},
   "source": [
    "### 2. Upload Model File & Weights File"
   ]
  },
  {
   "cell_type": "code",
   "execution_count": 3,
   "id": "meaning-professional",
   "metadata": {
    "scrolled": true
   },
   "outputs": [
    {
     "name": "stdout",
     "output_type": "stream",
     "text": [
      "\u001b[32mUpload successful.\u001b[0m \n",
      "\n"
     ]
    }
   ],
   "source": [
    "\"\"\"\n",
    "Naming convention for files: \n",
    "If model file name is \"model.py\", \n",
    "then the weights file should be named as \"model_weights.pkl\".\n",
    "Set weights = True, for providing pre trained weights \n",
    "\"\"\"\n",
    "# Upload model and weights file\n",
    "# Note : wait until Upload successfull message received \n",
    "model_id = user.uploadModel('small_network',weights=True)"
   ]
  },
  {
   "cell_type": "markdown",
   "id": "d7c16a36",
   "metadata": {},
   "source": [
    "### 3. Set Training Plan"
   ]
  },
  {
   "cell_type": "code",
   "execution_count": 4,
   "id": "03c08e31",
   "metadata": {},
   "outputs": [
    {
     "name": "stdout",
     "output_type": "stream",
     "text": [
      "\u001b[32mAssignment successful!\u001b[0m \n",
      "\n",
      "Please set training plan.\n"
     ]
    }
   ],
   "source": [
    "# creating a training plan and assign data set\n",
    "# Note : wait until message \n",
    "trainingObject = user.linkModelDataset(model_id,'D0fTv154')"
   ]
  },
  {
   "cell_type": "code",
   "execution_count": 5,
   "id": "dc9c09e8",
   "metadata": {
    "scrolled": false
   },
   "outputs": [
    {
     "name": "stdout",
     "output_type": "stream",
     "text": [
      " \u001b[1mTraining Description\u001b[0m\n",
      "\n",
      " objective: \n",
      " name: \n",
      " modelType: \n",
      " category: \n",
      " datasetId: D0fTv154\n",
      " \n",
      " \u001b[1mTraining Parameters\u001b[0m\n",
      "\n",
      " epochs: 10\n",
      " cycles: 1\n",
      " stepsPerEpoch: None\n",
      " initialEpoch: 0\n",
      " validationSteps: None\n",
      " batchSize: 32\n",
      " validation_split': 0.1\n",
      " \n",
      " \u001b[1mHyperparameters\u001b[0m\n",
      "\n",
      " optimizer: adam\n",
      " lossFunction: categorical_crossentropy\n",
      " learningRate: 0.001\n",
      " metrics: ['accuracy']\n",
      " layersTrained: \n",
      " earlystopCallback: {}\n",
      " reducelrCallback: {}\n",
      " modelCheckpointCallback: {}\n",
      " terminateOnNaNCallback: {}\n",
      " \n",
      " \u001b[1mAugmentation Parameters\u001b[0m\n",
      "\n",
      " brightness_range: None\n",
      " channel_shift_range: 0.0\n",
      " cval: 0.0\n",
      " data_format: None\n",
      " dtype: None\n",
      " featurewise_center: False\n",
      " featurewise_std_normalization: False\n",
      " fill_mode: nearest\n",
      " height_shift_range: 0.0\n",
      " horizontal_flip: False\n",
      " rescale: None\n",
      " rotation_range: 0\n",
      " samplewise_center: False\n",
      " samplewise_std_normalization: False\n",
      " shear_range: 0.0\n",
      " shuffle: True\n",
      " vertical_flip: False\n",
      " width_shift_range: 0.0\n",
      " zca_whitening: False\n",
      " zoom_range: 0.0\n",
      "\n"
     ]
    }
   ],
   "source": [
    "# look up and validate you training plan \n",
    "trainingObject.getTrainingPlan()"
   ]
  },
  {
   "cell_type": "code",
   "execution_count": 6,
   "id": "576eba7d",
   "metadata": {},
   "outputs": [
    {
     "name": "stdout",
     "output_type": "stream",
     "text": [
      " \u001b[1mTraining Description\u001b[0m\n",
      "\n",
      " objective: To test JN new features\n",
      " name: Test JN\n",
      " modelType: CNN\n",
      " category: Classification\n",
      " datasetId: D0fTv154\n",
      " \n",
      " \u001b[1mTraining Parameters\u001b[0m\n",
      "\n",
      " epochs: 1\n",
      " cycles: 1\n",
      " stepsPerEpoch: None\n",
      " initialEpoch: 0\n",
      " validationSteps: None\n",
      " batchSize: 32\n",
      " validation_split': 0.3\n",
      " \n",
      " \u001b[1mHyperparameters\u001b[0m\n",
      "\n",
      " optimizer: adam\n",
      " lossFunction: categorical_crossentropy\n",
      " learningRate: 0.002\n",
      " metrics: ['accuracy']\n",
      " layersTrained: \n",
      " earlystopCallback: {}\n",
      " reducelrCallback: {}\n",
      " modelCheckpointCallback: {}\n",
      " terminateOnNaNCallback: {}\n",
      " \n",
      " \u001b[1mAugmentation Parameters\u001b[0m\n",
      "\n",
      " brightness_range: None\n",
      " channel_shift_range: 0.0\n",
      " cval: 0.0\n",
      " data_format: None\n",
      " dtype: None\n",
      " featurewise_center: False\n",
      " featurewise_std_normalization: False\n",
      " fill_mode: nearest\n",
      " height_shift_range: 0.0\n",
      " horizontal_flip: False\n",
      " rescale: None\n",
      " rotation_range: 0\n",
      " samplewise_center: False\n",
      " samplewise_std_normalization: False\n",
      " shear_range: 0.0\n",
      " shuffle: True\n",
      " vertical_flip: False\n",
      " width_shift_range: 0.0\n",
      " zca_whitening: False\n",
      " zoom_range: 0.0\n",
      "\n"
     ]
    }
   ],
   "source": [
    "# set all parameters\n",
    "# name, category, modelType are compulsory to create training Plan\n",
    "trainingObject.name(\"Test JN\")\n",
    "trainingObject.objective(\"To test JN new features\")\n",
    "trainingObject.category(\"Classification\")\n",
    "trainingObject.modelType(\"CNN\")\n",
    "trainingObject.cycles(1)\n",
    "trainingObject.epochs(1)\n",
    "trainingObject.validation_split(0.3)\n",
    "trainingObject.learningRate(0.002)\n",
    "\n",
    "#training plan set by user for experiment\n",
    "trainingObject.getTrainingPlan()"
   ]
  },
  {
   "cell_type": "markdown",
   "id": "435d919c",
   "metadata": {},
   "source": [
    "### 4. Start Training"
   ]
  },
  {
   "cell_type": "code",
   "execution_count": 7,
   "id": "3df4bf40",
   "metadata": {
    "scrolled": true
   },
   "outputs": [
    {
     "name": "stdout",
     "output_type": "stream",
     "text": [
      "\u001b[32mExperiment created with id:EK9Uaad7\u001b[0m \n",
      "\n",
      "Training request sent....\n",
      "Updated weights will be available to download once training completed\n",
      "\n",
      "\n",
      " Link to Experiment is : http://127.0.0.1:8000/experiments/D0fTv154/EK9Uaad7/\n",
      " Training Plan Information for Experiment is :\n",
      " \u001b[1mTraining Description\u001b[0m\n",
      "\n",
      " objective: To test JN new features\n",
      " name: Test JN\n",
      " modelType: CNN\n",
      " category: Classification\n",
      " datasetId: D0fTv154\n",
      " \n",
      " \u001b[1mTraining Parameters\u001b[0m\n",
      "\n",
      " epochs: 1\n",
      " cycles: 1\n",
      " stepsPerEpoch: None\n",
      " initialEpoch: 0\n",
      " validationSteps: None\n",
      " batchSize: 32\n",
      " validation_split': 0.3\n",
      " \n",
      " \u001b[1mHyperparameters\u001b[0m\n",
      "\n",
      " optimizer: adam\n",
      " lossFunction: categorical_crossentropy\n",
      " learningRate: 0.002\n",
      " metrics: ['accuracy']\n",
      " layersTrained: \n",
      " earlystopCallback: {}\n",
      " reducelrCallback: {}\n",
      " modelCheckpointCallback: {}\n",
      " terminateOnNaNCallback: {}\n",
      " \n",
      " \u001b[1mAugmentation Parameters\u001b[0m\n",
      "\n",
      " brightness_range: None\n",
      " channel_shift_range: 0.0\n",
      " cval: 0.0\n",
      " data_format: None\n",
      " dtype: None\n",
      " featurewise_center: False\n",
      " featurewise_std_normalization: False\n",
      " fill_mode: nearest\n",
      " height_shift_range: 0.0\n",
      " horizontal_flip: False\n",
      " rescale: None\n",
      " rotation_range: 0\n",
      " samplewise_center: False\n",
      " samplewise_std_normalization: False\n",
      " shear_range: 0.0\n",
      " shuffle: True\n",
      " vertical_flip: False\n",
      " width_shift_range: 0.0\n",
      " zca_whitening: False\n",
      " zoom_range: 0.0\n",
      "\n"
     ]
    }
   ],
   "source": [
    "# call create to start Training\n",
    "# Note : wait until Experiment created message received \n",
    "trainingObject.create()"
   ]
  },
  {
   "cell_type": "code",
   "execution_count": null,
   "id": "dffbcfb7",
   "metadata": {},
   "outputs": [],
   "source": []
  }
 ],
 "metadata": {
  "kernelspec": {
   "display_name": "Python 3 (ipykernel)",
   "language": "python",
   "name": "python3"
  },
  "language_info": {
   "codemirror_mode": {
    "name": "ipython",
    "version": 3
   },
   "file_extension": ".py",
   "mimetype": "text/x-python",
   "name": "python",
   "nbconvert_exporter": "python",
   "pygments_lexer": "ipython3",
   "version": "3.8.6"
  }
 },
 "nbformat": 4,
 "nbformat_minor": 5
}
