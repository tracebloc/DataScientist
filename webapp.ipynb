{
 "cells": [
  {
   "cell_type": "markdown",
   "id": "agricultural-defendant",
   "metadata": {},
   "source": [
    "### Import some useful libraries"
   ]
  },
  {
   "cell_type": "code",
   "execution_count": 9,
   "id": "secret-median",
   "metadata": {},
   "outputs": [],
   "source": [
    "import requests\n",
    "import json\n",
    "import getpass, os"
   ]
  },
  {
   "cell_type": "code",
   "execution_count": 5,
   "id": "downtown-payment",
   "metadata": {},
   "outputs": [],
   "source": [
    "def get_Token(username, password):\n",
    "    '''Function to get Token for username provided'''\n",
    "    try:\n",
    "        url = \"https://xray-backend.azurewebsites.net/api-token-auth/\"\n",
    "        r = requests.post(url, data = {\"username\": username, \"password\": password})\n",
    "\n",
    "        if r.status_code != 200:\n",
    "            print(\"###################################################\")\n",
    "            print(\"###################################################\")\n",
    "            print(\"Provide a valid username and password.....\")\n",
    "            print(\"###################################################\")\n",
    "            print(\"###################################################\")\n",
    "        else:\n",
    "\n",
    "            print(\"###################################################\")\n",
    "            print(\"###################################################\")\n",
    "            print(\"Authorized.....\")\n",
    "            print(\"###################################################\")\n",
    "            print(\"###################################################\")\n",
    "\n",
    "        token = json.loads(r.text)['token']\n",
    "    \n",
    "    except Exception as e:\n",
    "        \n",
    "        print(\"Error in logging in:: \" + str(e))\n",
    "        raise Exception(e)\n",
    "\n",
    "    return token"
   ]
  },
  {
   "cell_type": "markdown",
   "id": "public-perception",
   "metadata": {},
   "source": [
    "### Login with Datascientist Id and password"
   ]
  },
  {
   "cell_type": "code",
   "execution_count": 6,
   "id": "numeric-constant",
   "metadata": {},
   "outputs": [
    {
     "name": "stdout",
     "output_type": "stream",
     "text": [
      "Enter UserID\n",
      "datascientist\n",
      "Enter password...\n",
      "········\n",
      "###################################################\n",
      "###################################################\n",
      "Authorized.....\n",
      "###################################################\n",
      "###################################################\n"
     ]
    }
   ],
   "source": [
    "token = \"\"\n",
    "while len(token) == 0:\n",
    "    \n",
    "    user = input(\"Enter UserID\\n\")\n",
    "    password = getpass.getpass(\"Enter password...\\n\")\n",
    "    token = get_Token(user,password)\n"
   ]
  },
  {
   "cell_type": "markdown",
   "id": "posted-error",
   "metadata": {},
   "source": [
    "### Upload model file and weights to the server before training"
   ]
  },
  {
   "cell_type": "code",
   "execution_count": 7,
   "id": "african-marking",
   "metadata": {},
   "outputs": [
    {
     "name": "stdout",
     "output_type": "stream",
     "text": [
      "Make sure model file and weights are in current directory !\n",
      "###################################################\n",
      "###################################################\n",
      "Enter your model file name here eg: vggnet....\n",
      "model\n",
      "###################################################\n",
      "###################################################\n",
      "###################################################\n",
      "###################################################\n",
      "Model file uploaded.....\n",
      "###################################################\n",
      "###################################################\n",
      "Weights uploaded....\n"
     ]
    }
   ],
   "source": [
    "print(\"Make sure model file and weights are in current directory !\")\n",
    "print(\"###################################################\")\n",
    "print(\"###################################################\")\n",
    "model_name = input(\"Enter your model file name here eg: vggnet....\\n\")\n",
    "print(\"###################################################\")\n",
    "print(\"###################################################\")\n",
    "\n",
    "#Upload/Send model file to the server\n",
    "\n",
    "url_model = 'http://127.0.0.1:8000/upload/'\n",
    "# url_model = 'https://xray-backend.azurewebsites.net/upload/'\n",
    "header = {'Authorization' : f\"Token {token}\"}\n",
    "files = {'upload_file': open(f'{model_name}.py','rb')}\n",
    "values = {'path': \"global_model/files/\",\"filename\": f\"{model_name}.py\"}\n",
    "r = requests.post(url_model, headers = header, files=files, data=values)\n",
    "if r.status_code == 200:\n",
    "    print(\"###################################################\")\n",
    "    print(\"###################################################\")\n",
    "    print(\"Model file uploaded.....\")\n",
    "else:\n",
    "    print(\"###################################################\")\n",
    "    print(\"###################################################\")\n",
    "    print(\"Error uploading....\")\n",
    "\n",
    "#Upload/Send model weights to the server\n",
    "url_weights = 'http://127.0.0.1:8000/upload/'\n",
    "# url_weights = 'https://xray-backend.azurewebsites.net/upload/'\n",
    "header = {'Authorization' : f\"Token {token}\"}\n",
    "files = {'upload_file': open(f'{model_name}_weights.pkl','rb')}\n",
    "values = {'path': \"global_model/files/\",\"filename\": f\"{model_name}_weights.pkl\"}\n",
    "r = requests.post(url_weights, headers = header, files=files, data=values)\n",
    "if r.status_code == 200:\n",
    "    print(\"###################################################\")\n",
    "    print(\"###################################################\")\n",
    "    print(\"Weights uploaded....\")\n",
    "else:\n",
    "    print(\"###################################################\")\n",
    "    print(\"###################################################\")\n",
    "    print(\"Error uploading....\")"
   ]
  },
  {
   "cell_type": "markdown",
   "id": "willing-davis",
   "metadata": {},
   "source": [
    "### Send training plan to the server"
   ]
  },
  {
   "cell_type": "code",
   "execution_count": 8,
   "id": "national-attribute",
   "metadata": {
    "scrolled": true
   },
   "outputs": [
    {
     "name": "stdout",
     "output_type": "stream",
     "text": [
      "Provide parameters for training your model..\n",
      "###################################################\n",
      "###################################################\n",
      "Enter DatasetID..\n",
      "46\n",
      "No of cycles..\n",
      "1\n",
      "No of Epochs..\n",
      "1\n",
      "Learning rate...\n",
      "0.001\n",
      "Optimizer..\n",
      "adam\n",
      "###################################################\n",
      "###################################################\n",
      "Training request sent....\n",
      "Updated weights will be available to download once training completed\n"
     ]
    }
   ],
   "source": [
    "print(\"Provide parameters for training your model..\")\n",
    "print(\"###################################################\")\n",
    "print(\"###################################################\")\n",
    "\n",
    "datasetid = int(input(\"Enter DatasetID..\\n\"))\n",
    "cycles = int(input(\"No of cycles..\\n\"))\n",
    "epochs = int(input(\"No of Epochs..\\n\"))\n",
    "lr = float(input(\"Learning rate...\\n\"))\n",
    "optimizer = input(\"Optimizer..\\n\")\n",
    "\n",
    "\n",
    "parameters = {'message':'training',\n",
    "'datasetID':datasetid,\n",
    "'model_name': model_name ,\n",
    "'cycles':cycles,\n",
    "'epochs':epochs,\n",
    "'lr':lr,\n",
    "'optimizer':optimizer,\n",
    "'layers_non_trainable':''}\n",
    "\n",
    "#Send training request to server\n",
    "url = \"http://127.0.0.1:8000/training/\"\n",
    "# url = \"https://xray-backend.azurewebsites.net/training/\"\n",
    "header = {'Authorization' : f\"Token {token}\"}\n",
    "r = requests.post(url, headers = header, data = parameters )\n",
    "if r.status_code == 200:\n",
    "    print(\"###################################################\")\n",
    "    print(\"###################################################\")\n",
    "    print(\"Training request sent....\\nUpdated weights will be available to download once training completed\")\n",
    "else:\n",
    "    print(\"###################################################\")\n",
    "    print(\"###################################################\")\n",
    "    print(\"Error in connecting with server....\")"
   ]
  },
  {
   "cell_type": "code",
   "execution_count": 3,
   "id": "confirmed-signal",
   "metadata": {},
   "outputs": [
    {
     "name": "stdout",
     "output_type": "stream",
     "text": [
      "Enter epochs\n",
      "2\n",
      "Enter cycles\n",
      "2\n",
      "Enter flip\n",
      "yes\n",
      "{'message': 'training', 'epochs': '2', 'cycles': '2', 'flip': 'yes'}\n"
     ]
    }
   ],
   "source": [
    "arg = [\"epochs\",\"cycles\",\"flip\"]\n",
    "para = {\"message\":\"training\"}\n",
    "for i in arg:\n",
    "    inp = input(f\"Enter {i}\\n\")\n",
    "    para[i] = inp\n",
    "print(para)"
   ]
  }
 ],
 "metadata": {
  "kernelspec": {
   "display_name": "Python 3",
   "language": "python",
   "name": "python3"
  },
  "language_info": {
   "codemirror_mode": {
    "name": "ipython",
    "version": 3
   },
   "file_extension": ".py",
   "mimetype": "text/x-python",
   "name": "python",
   "nbconvert_exporter": "python",
   "pygments_lexer": "ipython3",
   "version": "3.8.6"
  }
 },
 "nbformat": 4,
 "nbformat_minor": 5
}
