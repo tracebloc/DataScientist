{
 "cells": [
  {
   "cell_type": "markdown",
   "id": "public-perception",
   "metadata": {},
   "source": [
    "### Login with Datascientist Id and password"
   ]
  },
  {
   "cell_type": "code",
   "execution_count": null,
   "id": "numeric-constant",
   "metadata": {
    "scrolled": true
   },
   "outputs": [],
   "source": [
    "from tracebloc import User,Model,TrainingPlan"
   ]
  },
  {
   "cell_type": "code",
   "execution_count": null,
   "id": "d31c8fff",
   "metadata": {
    "scrolled": true
   },
   "outputs": [],
   "source": [
    "user = User(\"datascientist\",\"&6edg*D9e\")"
   ]
  },
  {
   "cell_type": "code",
   "execution_count": null,
   "id": "133cdb9d",
   "metadata": {},
   "outputs": [],
   "source": [
    "#Get token after logged in \n",
    "token = user.getToken()"
   ]
  },
  {
   "cell_type": "markdown",
   "id": "brilliant-access",
   "metadata": {},
   "source": [
    "### Upload model file and weights"
   ]
  },
  {
   "cell_type": "code",
   "execution_count": null,
   "id": "meaning-professional",
   "metadata": {
    "scrolled": false
   },
   "outputs": [],
   "source": [
    "upload = Model('vggnet',token)"
   ]
  },
  {
   "cell_type": "code",
   "execution_count": null,
   "id": "426a7426",
   "metadata": {},
   "outputs": [],
   "source": [
    "model_name= upload.getNewModelName()"
   ]
  },
  {
   "cell_type": "markdown",
   "id": "d7c16a36",
   "metadata": {},
   "source": [
    "### Set Training Plan"
   ]
  },
  {
   "cell_type": "code",
   "execution_count": null,
   "id": "03c08e31",
   "metadata": {},
   "outputs": [],
   "source": [
    "trainingPlan = TrainingPlan(80,model_name,token)"
   ]
  },
  {
   "cell_type": "code",
   "execution_count": null,
   "id": "cb09f096",
   "metadata": {},
   "outputs": [],
   "source": [
    "trainingPlan.setExperimentObjective(\"Classifify different defects using xray images with VGGNET\")"
   ]
  },
  {
   "cell_type": "code",
   "execution_count": null,
   "id": "855b9bde",
   "metadata": {},
   "outputs": [],
   "source": [
    "trainingPlan.setModelType('VGGNET')"
   ]
  },
  {
   "cell_type": "code",
   "execution_count": null,
   "id": "0fca2a95",
   "metadata": {},
   "outputs": [],
   "source": [
    "trainingPlan.setExperimentName(\"Industrial common defects\")\n",
    "trainingPlan.setExperimentCategory(\"Classification\")\n",
    "trainingPlan.setCycles(2)"
   ]
  },
  {
   "cell_type": "code",
   "execution_count": null,
   "id": "dc9c09e8",
   "metadata": {},
   "outputs": [],
   "source": [
    "trainingPlan.getParameters()"
   ]
  },
  {
   "cell_type": "markdown",
   "id": "435d919c",
   "metadata": {},
   "source": [
    "### Create Training Plan and start experiment"
   ]
  },
  {
   "cell_type": "code",
   "execution_count": null,
   "id": "3df4bf40",
   "metadata": {
    "scrolled": false
   },
   "outputs": [],
   "source": [
    "trainingPlan.create()"
   ]
  },
  {
   "cell_type": "code",
   "execution_count": 5,
   "id": "9404d816",
   "metadata": {},
   "outputs": [
    {
     "ename": "ValueError",
     "evalue": "This model has not yet been built. Build the model first by calling `build()` or calling `fit()` with some data, or specify an `input_shape` argument in the first layer(s) for automatic build.",
     "output_type": "error",
     "traceback": [
      "\u001b[0;31m---------------------------------------------------------------------------\u001b[0m",
      "\u001b[0;31mValueError\u001b[0m                                Traceback (most recent call last)",
      "\u001b[0;32m/var/folders/jq/r3dcjtg52g9bwnx6_tfsr1lw0000gn/T/ipykernel_5559/3201015165.py\u001b[0m in \u001b[0;36m<module>\u001b[0;34m\u001b[0m\n\u001b[1;32m      1\u001b[0m \u001b[0;32mimport\u001b[0m \u001b[0mmodel\u001b[0m\u001b[0;34m\u001b[0m\u001b[0;34m\u001b[0m\u001b[0m\n\u001b[1;32m      2\u001b[0m \u001b[0mmodel_train\u001b[0m \u001b[0;34m=\u001b[0m \u001b[0mmodel\u001b[0m\u001b[0;34m.\u001b[0m\u001b[0mMyModel\u001b[0m\u001b[0;34m(\u001b[0m\u001b[0;34m)\u001b[0m\u001b[0;34m\u001b[0m\u001b[0;34m\u001b[0m\u001b[0m\n\u001b[0;32m----> 3\u001b[0;31m \u001b[0mmodel_train\u001b[0m\u001b[0;34m.\u001b[0m\u001b[0msummary\u001b[0m\u001b[0;34m(\u001b[0m\u001b[0;34m)\u001b[0m\u001b[0;34m\u001b[0m\u001b[0;34m\u001b[0m\u001b[0m\n\u001b[0m",
      "\u001b[0;32m/opt/homebrew/Caskroom/miniforge/base/envs/ai/lib/python3.8/site-packages/tensorflow/python/keras/engine/training.py\u001b[0m in \u001b[0;36msummary\u001b[0;34m(self, line_length, positions, print_fn)\u001b[0m\n\u001b[1;32m   2374\u001b[0m     \"\"\"\n\u001b[1;32m   2375\u001b[0m     \u001b[0;32mif\u001b[0m \u001b[0;32mnot\u001b[0m \u001b[0mself\u001b[0m\u001b[0;34m.\u001b[0m\u001b[0mbuilt\u001b[0m\u001b[0;34m:\u001b[0m\u001b[0;34m\u001b[0m\u001b[0;34m\u001b[0m\u001b[0m\n\u001b[0;32m-> 2376\u001b[0;31m       raise ValueError('This model has not yet been built. '\n\u001b[0m\u001b[1;32m   2377\u001b[0m                        \u001b[0;34m'Build the model first by calling `build()` or calling '\u001b[0m\u001b[0;34m\u001b[0m\u001b[0;34m\u001b[0m\u001b[0m\n\u001b[1;32m   2378\u001b[0m                        \u001b[0;34m'`fit()` with some data, or specify '\u001b[0m\u001b[0;34m\u001b[0m\u001b[0;34m\u001b[0m\u001b[0m\n",
      "\u001b[0;31mValueError\u001b[0m: This model has not yet been built. Build the model first by calling `build()` or calling `fit()` with some data, or specify an `input_shape` argument in the first layer(s) for automatic build."
     ]
    }
   ],
   "source": [
    "import model\n",
    "model_train = model.MyModel()\n",
    "model_train.summary()"
   ]
  },
  {
   "cell_type": "code",
   "execution_count": null,
   "id": "690c599f",
   "metadata": {},
   "outputs": [],
   "source": [
    "w = model_train.get_weights()\n",
    "output = open('model_weights.pkl', 'wb')\n",
    "pickle.dump(w, output)\n",
    "output.close()"
   ]
  }
 ],
 "metadata": {
  "kernelspec": {
   "display_name": "Python 3 (ipykernel)",
   "language": "python",
   "name": "python3"
  },
  "language_info": {
   "codemirror_mode": {
    "name": "ipython",
    "version": 3
   },
   "file_extension": ".py",
   "mimetype": "text/x-python",
   "name": "python",
   "nbconvert_exporter": "python",
   "pygments_lexer": "ipython3",
   "version": "3.8.6"
  }
 },
 "nbformat": 4,
 "nbformat_minor": 5
}
