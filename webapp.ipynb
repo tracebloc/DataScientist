{
 "cells": [
  {
   "cell_type": "markdown",
   "id": "public-perception",
   "metadata": {},
   "source": [
    "## Welcome to Training Neural Nets Globally"
   ]
  },
  {
   "cell_type": "code",
   "execution_count": 1,
   "id": "numeric-constant",
   "metadata": {
    "scrolled": true
   },
   "outputs": [],
   "source": [
    "from tracebloc import User"
   ]
  },
  {
   "cell_type": "markdown",
   "id": "93329aec",
   "metadata": {},
   "source": [
    "### 1. Login & Security Token"
   ]
  },
  {
   "cell_type": "code",
   "execution_count": 2,
   "id": "d31c8fff",
   "metadata": {
    "scrolled": true
   },
   "outputs": [
    {
     "name": "stdout",
     "output_type": "stream",
     "text": [
      "Enter Username shujaatds\n",
      "Enter Password ········\n",
      "Login successful.\n",
      "\n",
      "\n"
     ]
    }
   ],
   "source": [
    "# Enter your Tracebloc username and password to login\n",
    "# Note : wait until Login successful message received \n",
    "user = User()"
   ]
  },
  {
   "cell_type": "markdown",
   "id": "brilliant-access",
   "metadata": {},
   "source": [
    "### 2. Upload Model File & Weights File"
   ]
  },
  {
   "cell_type": "code",
   "execution_count": 6,
   "id": "meaning-professional",
   "metadata": {
    "scrolled": true
   },
   "outputs": [
    {
     "name": "stdout",
     "output_type": "stream",
     "text": [
      "\u001b[32mUpload successful.\u001b[0m \n",
      "\n"
     ]
    }
   ],
   "source": [
    "\"\"\"\n",
    "Naming convention for files: \n",
    "If model file name is \"model.py\", \n",
    "then the weights file should be named as \"model_weights.pkl\".\n",
    "\"\"\"\n",
    "# Upload model and weights file\n",
    "# Note : wait until Upload successfull message received \n",
    "model_id = user.uploadModel('resnet')"
   ]
  },
  {
   "cell_type": "markdown",
   "id": "d7c16a36",
   "metadata": {},
   "source": [
    "### 3. Set Training Plan"
   ]
  },
  {
   "cell_type": "code",
   "execution_count": 4,
   "id": "03c08e31",
   "metadata": {},
   "outputs": [
    {
     "name": "stdout",
     "output_type": "stream",
     "text": [
      "{'status': 'passed'}\n",
      "Model and dataset selected, please set parameters\n"
     ]
    }
   ],
   "source": [
    "# creating a training plan and assign data set\n",
    "# Note : wait until message \n",
    "trainingObject = user.linkModelDataset(model_id,'D0fTv154')"
   ]
  },
  {
   "cell_type": "code",
   "execution_count": 5,
   "id": "dc9c09e8",
   "metadata": {
    "scrolled": false
   },
   "outputs": [
    {
     "name": "stdout",
     "output_type": "stream",
     "text": [
      " \u001b[1mTraining Description\u001b[0m\n",
      "\n",
      " objective: \n",
      " name: \n",
      " modelType: \n",
      " category: \n",
      " datasetId: D0fTv154\n",
      " \n",
      " \u001b[1mTraining Parameters\u001b[0m\n",
      "\n",
      " epochs: 10\n",
      " cycles: 1\n",
      " stepsPerEpoch: None\n",
      " initialEpoch: 0\n",
      " validationSteps: None\n",
      " batchSize: 32\n",
      " validation_split': 0.1\n",
      " \n",
      " \u001b[1mHyperparameters\u001b[0m\n",
      "\n",
      " optimizer: adam\n",
      " lossFunction: categorical_crossentropy\n",
      " learningRate: 0.001\n",
      " metrics: ['accuracy']\n",
      " layersTrained': \n",
      " earlystopCallback': {}\n",
      " reducelrCallback': {}\n",
      " modelCheckpointCallback': {}\n",
      " terminateOnNaNCallback': {}\n",
      " \n",
      " \u001b[1mAugmentation Parameters\u001b[0m\n",
      "\n",
      " featurewise_center: False\n",
      " samplewise_center: False\n",
      " featurewise_std_normalization': False\n",
      " samplewise_std_normalization': False\n",
      " zca_whitening': False\n",
      " rotation_range': 0\n",
      " width_shift_range': 0.0\n",
      " height_shift_range': 0.0\n",
      " brightness_range': None\n",
      " shear_range': 0.0\n",
      " zoom_range': 0.0\n",
      " channel_shift_range': 0.0\n",
      " fill_mode': nearest\n",
      " cval': 0.0\n",
      " horizontal_flip': False\n",
      " vertical_flip': False\n",
      " rescale': None\n",
      " data_format': None\n",
      " dtype': None\n",
      " shuffle': True\n",
      "\n"
     ]
    }
   ],
   "source": [
    "# look up and validate you training plan \n",
    "trainingObject.getTrainingPlan()"
   ]
  },
  {
   "cell_type": "code",
   "execution_count": 6,
   "id": "576eba7d",
   "metadata": {},
   "outputs": [
    {
     "name": "stdout",
     "output_type": "stream",
     "text": [
      " \u001b[1mTraining Description\u001b[0m\n",
      "\n",
      " objective: To learn with less capacity model\n",
      " name: prediction of six classes\n",
      " modelType: small network\n",
      " category: Classification\n",
      " datasetId: D0fTv154\n",
      " \n",
      " \u001b[1mTraining Parameters\u001b[0m\n",
      "\n",
      " epochs: 1\n",
      " cycles: 1\n",
      " stepsPerEpoch: None\n",
      " initialEpoch: 0\n",
      " validationSteps: None\n",
      " batchSize: 32\n",
      " validation_split': 0.3\n",
      " \n",
      " \u001b[1mHyperparameters\u001b[0m\n",
      "\n",
      " optimizer: adam\n",
      " lossFunction: categorical_crossentropy\n",
      " learningRate: 0.002\n",
      " metrics: ['accuracy']\n",
      " layersTrained': \n",
      " earlystopCallback': {}\n",
      " reducelrCallback': {}\n",
      " modelCheckpointCallback': {}\n",
      " terminateOnNaNCallback': {}\n",
      " \n",
      " \u001b[1mAugmentation Parameters\u001b[0m\n",
      "\n",
      " featurewise_center: False\n",
      " samplewise_center: False\n",
      " featurewise_std_normalization': False\n",
      " samplewise_std_normalization': False\n",
      " zca_whitening': False\n",
      " rotation_range': 0\n",
      " width_shift_range': 0.0\n",
      " height_shift_range': 0.0\n",
      " brightness_range': None\n",
      " shear_range': 0.0\n",
      " zoom_range': 0.0\n",
      " channel_shift_range': 0.0\n",
      " fill_mode': nearest\n",
      " cval': 0.0\n",
      " horizontal_flip': False\n",
      " vertical_flip': False\n",
      " rescale': None\n",
      " data_format': None\n",
      " dtype': None\n",
      " shuffle': True\n",
      "\n"
     ]
    }
   ],
   "source": [
    "# set all parameters\n",
    "# name, category, modelType are compulsory to create training Plan\n",
    "trainingObject.name(\"prediction of six classes\")\n",
    "trainingObject.objective(\"To learn with less capacity model\")\n",
    "trainingObject.category(\"Classification\")\n",
    "trainingObject.modelType(\"small network\")\n",
    "trainingObject.cycles(1)\n",
    "trainingObject.epochs(1)\n",
    "trainingObject.validation_split(0.3)\n",
    "trainingObject.learningRate(0.002)\n",
    "\n",
    "#training plan set by user for experiment\n",
    "trainingObject.getTrainingPlan()"
   ]
  },
  {
   "cell_type": "markdown",
   "id": "435d919c",
   "metadata": {},
   "source": [
    "### 4. Start Training"
   ]
  },
  {
   "cell_type": "code",
   "execution_count": 7,
   "id": "3df4bf40",
   "metadata": {
    "scrolled": true
   },
   "outputs": [
    {
     "name": "stdout",
     "output_type": "stream",
     "text": [
      "Experiment created with id:EZIT6ZcO\n",
      "\n",
      "Training request sent....\n",
      "Updated weights will be available to download once training completed\n",
      "\n",
      "\n",
      "Training Plan Information for Experiment is :\n",
      " \u001b[1mTraining Description\u001b[0m\n",
      "\n",
      " objective: To learn with less capacity model\n",
      " name: prediction of six classes\n",
      " modelType: small network\n",
      " category: Classification\n",
      " datasetId: D0fTv154\n",
      " \n",
      " \u001b[1mTraining Parameters\u001b[0m\n",
      "\n",
      " epochs: 1\n",
      " cycles: 1\n",
      " stepsPerEpoch: None\n",
      " initialEpoch: 0\n",
      " validationSteps: None\n",
      " batchSize: 32\n",
      " validation_split': 0.3\n",
      " \n",
      " \u001b[1mHyperparameters\u001b[0m\n",
      "\n",
      " optimizer: adam\n",
      " lossFunction: categorical_crossentropy\n",
      " learningRate: 0.002\n",
      " metrics: ['accuracy']\n",
      " layersTrained': \n",
      " earlystopCallback': {}\n",
      " reducelrCallback': {}\n",
      " modelCheckpointCallback': {}\n",
      " terminateOnNaNCallback': {}\n",
      " \n",
      " \u001b[1mAugmentation Parameters\u001b[0m\n",
      "\n",
      " featurewise_center: False\n",
      " samplewise_center: False\n",
      " featurewise_std_normalization': False\n",
      " samplewise_std_normalization': False\n",
      " zca_whitening': False\n",
      " rotation_range': 0\n",
      " width_shift_range': 0.0\n",
      " height_shift_range': 0.0\n",
      " brightness_range': None\n",
      " shear_range': 0.0\n",
      " zoom_range': 0.0\n",
      " channel_shift_range': 0.0\n",
      " fill_mode': nearest\n",
      " cval': 0.0\n",
      " horizontal_flip': False\n",
      " vertical_flip': False\n",
      " rescale': None\n",
      " data_format': None\n",
      " dtype': None\n",
      " shuffle': True\n",
      "\n"
     ]
    }
   ],
   "source": [
    "# call create to start Training\n",
    "# Note : wait until Experiment created message received \n",
    "trainingObject.create()"
   ]
  }
 ],
 "metadata": {
  "kernelspec": {
   "display_name": "Python 3 (ipykernel)",
   "language": "python",
   "name": "python3"
  },
  "language_info": {
   "codemirror_mode": {
    "name": "ipython",
    "version": 3
   },
   "file_extension": ".py",
   "mimetype": "text/x-python",
   "name": "python",
   "nbconvert_exporter": "python",
   "pygments_lexer": "ipython3",
   "version": "3.8.6"
  }
 },
 "nbformat": 4,
 "nbformat_minor": 5
}
