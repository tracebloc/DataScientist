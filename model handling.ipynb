{
 "cells": [
  {
   "cell_type": "code",
   "execution_count": null,
   "id": "76abd1e4",
   "metadata": {},
   "outputs": [],
   "source": [
    "import pickle\n",
    "import CNN\n",
    "model = CNN.MyModel()"
   ]
  },
  {
   "cell_type": "code",
   "execution_count": null,
   "id": "9df8fe73",
   "metadata": {},
   "outputs": [],
   "source": [
    "int(model.input_shape[2])"
   ]
  },
  {
   "cell_type": "code",
   "execution_count": null,
   "id": "3ec1428e",
   "metadata": {},
   "outputs": [],
   "source": [
    "model.output_shape[-1]"
   ]
  },
  {
   "cell_type": "code",
   "execution_count": null,
   "id": "9bd013a1",
   "metadata": {},
   "outputs": [],
   "source": [
    "#Dump weights\n",
    "w = model.get_weights()\n",
    "output = open(\"CNN_weights.pkl\",\"wb\")\n",
    "pickle.dump(w,output)\n",
    "output.close()"
   ]
  },
  {
   "cell_type": "code",
   "execution_count": null,
   "id": "59fa7b1c",
   "metadata": {},
   "outputs": [],
   "source": [
    "#Load weights to check if it works\n",
    "w = open('CNN_weights.pkl', 'rb')\n",
    "we = pickle.load(w)\n",
    "try:\n",
    "    \n",
    "    model.set_weights(we)\n",
    "    model.summary()\n",
    "except ValueError:\n",
    "    print(\"Incompatible shape for weights uploaded.\")"
   ]
  }
 ],
 "metadata": {
  "kernelspec": {
   "display_name": "Python 3 (ipykernel)",
   "language": "python",
   "name": "python3"
  },
  "language_info": {
   "codemirror_mode": {
    "name": "ipython",
    "version": 3
   },
   "file_extension": ".py",
   "mimetype": "text/x-python",
   "name": "python",
   "nbconvert_exporter": "python",
   "pygments_lexer": "ipython3",
   "version": "3.8.6"
  }
 },
 "nbformat": 4,
 "nbformat_minor": 5
}
