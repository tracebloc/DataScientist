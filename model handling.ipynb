{
 "cells": [
  {
   "cell_type": "markdown",
   "id": "76387735",
   "metadata": {},
   "source": [
    "# Run below cell to check input & output of model and dump weights for updated model"
   ]
  },
  {
   "cell_type": "code",
   "execution_count": 1,
   "id": "76abd1e4",
   "metadata": {},
   "outputs": [
    {
     "name": "stdout",
     "output_type": "stream",
     "text": [
      "Model input shape:  224\n",
      "Model output shape:  2\n",
      "Dumped new weights for above model\n"
     ]
    }
   ],
   "source": [
    "import pickle\n",
    "import CNN\n",
    "model = CNN.MyModel()\n",
    "#print model input and output\n",
    "print(\"Model input shape: \",int(model.input_shape[2]))\n",
    "print(\"Model output shape: \",model.output_shape[-1])\n",
    "#Dump weights\n",
    "w = model.get_weights()\n",
    "output = open(\"CNN_weights.pkl\",\"wb\")\n",
    "pickle.dump(w,output)\n",
    "output.close()\n",
    "print(\"Dumped new weights for above model\")"
   ]
  },
  {
   "cell_type": "markdown",
   "id": "7d2dc521",
   "metadata": {},
   "source": [
    "# Run below cell to confirm new weights get load in model. Note: Please restart kernel before u run this cell."
   ]
  },
  {
   "cell_type": "code",
   "execution_count": null,
   "id": "59fa7b1c",
   "metadata": {
    "scrolled": false
   },
   "outputs": [],
   "source": [
    "import pickle\n",
    "import CNN\n",
    "model = CNN.MyModel()\n",
    "#Load weights to check if it works\n",
    "w = open('CNN_weights.pkl', 'rb')\n",
    "we = pickle.load(w)\n",
    "try:\n",
    "    \n",
    "    model.set_weights(we)\n",
    "    model.summary()\n",
    "except ValueError:\n",
    "    print(\"Incompatible shape for weights uploaded.\")"
   ]
  }
 ],
 "metadata": {
  "kernelspec": {
   "display_name": "Python 3 (ipykernel)",
   "language": "python",
   "name": "python3"
  },
  "language_info": {
   "codemirror_mode": {
    "name": "ipython",
    "version": 3
   },
   "file_extension": ".py",
   "mimetype": "text/x-python",
   "name": "python",
   "nbconvert_exporter": "python",
   "pygments_lexer": "ipython3",
   "version": "3.8.6"
  }
 },
 "nbformat": 4,
 "nbformat_minor": 5
}
