{
 "cells": [
  {
   "cell_type": "markdown",
   "id": "76387735",
   "metadata": {},
   "source": [
    "# Run below cell to check input & output of model and dump weights for updated model"
   ]
  },
  {
   "cell_type": "code",
   "execution_count": 1,
   "id": "76abd1e4",
   "metadata": {},
   "outputs": [
    {
     "name": "stdout",
     "output_type": "stream",
     "text": [
      "Model input shape:  224\n",
      "Model output shape:  2\n",
      "Dumped new weights for above model\n"
     ]
    }
   ],
   "source": [
    "import pickle\n",
    "import CNN\n",
    "model = CNN.MyModel()\n",
    "#print model input and output\n",
    "print(\"Model input shape: \",int(model.input_shape[2]))\n",
    "print(\"Model output shape: \",model.output_shape[-1])\n",
    "#Dump weights\n",
    "w = model.get_weights()\n",
    "output = open(\"CNN_weights.pkl\",\"wb\")\n",
    "pickle.dump(w,output)\n",
    "output.close()\n",
    "print(\"Dumped new weights for above model\")"
   ]
  },
  {
   "cell_type": "markdown",
   "id": "7d2dc521",
   "metadata": {},
   "source": [
    "# Run below cell to confirm new weights get load in model. Note: Please restart kernel before u run this cell."
   ]
  },
  {
   "cell_type": "code",
   "execution_count": 2,
   "id": "59fa7b1c",
   "metadata": {
    "scrolled": false
   },
   "outputs": [
    {
     "name": "stdout",
     "output_type": "stream",
     "text": [
      "Model: \"sequential_1\"\n",
      "_________________________________________________________________\n",
      "Layer (type)                 Output Shape              Param #   \n",
      "=================================================================\n",
      "mobilenet_1.00_224 (Function (None, 7, 7, 1024)        3228864   \n",
      "_________________________________________________________________\n",
      "global_average_pooling2d_1 ( (None, 1024)              0         \n",
      "_________________________________________________________________\n",
      "dropout_2 (Dropout)          (None, 1024)              0         \n",
      "_________________________________________________________________\n",
      "dense_2 (Dense)              (None, 512)               524800    \n",
      "_________________________________________________________________\n",
      "dropout_3 (Dropout)          (None, 512)               0         \n",
      "_________________________________________________________________\n",
      "dense_3 (Dense)              (None, 2)                 1026      \n",
      "=================================================================\n",
      "Total params: 3,754,690\n",
      "Trainable params: 3,732,802\n",
      "Non-trainable params: 21,888\n",
      "_________________________________________________________________\n"
     ]
    }
   ],
   "source": [
    "import pickle\n",
    "import CNN\n",
    "model = CNN.MyModel()\n",
    "#Load weights to check if it works\n",
    "w = open('CNN_weights.pkl', 'rb')\n",
    "we = pickle.load(w)\n",
    "try:\n",
    "    \n",
    "    model.set_weights(we)\n",
    "    model.summary()\n",
    "except ValueError:\n",
    "    print(\"Incompatible shape for weights uploaded.\")"
   ]
  }
 ],
 "metadata": {
  "kernelspec": {
   "display_name": "Python 3 (ipykernel)",
   "language": "python",
   "name": "python3"
  },
  "language_info": {
   "codemirror_mode": {
    "name": "ipython",
    "version": 3
   },
   "file_extension": ".py",
   "mimetype": "text/x-python",
   "name": "python",
   "nbconvert_exporter": "python",
   "pygments_lexer": "ipython3",
   "version": "3.8.6"
  }
 },
 "nbformat": 4,
 "nbformat_minor": 5
}
