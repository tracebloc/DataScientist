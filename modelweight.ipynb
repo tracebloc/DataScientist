{
 "cells": [
  {
   "cell_type": "markdown",
   "id": "76387735",
   "metadata": {},
   "source": [
    "# Run below cell to check input & output of model and dump weights for updated model. Note: Please restart kernel before u run this cell."
   ]
  },
  {
   "cell_type": "code",
   "execution_count": 5,
   "id": "76abd1e4",
   "metadata": {},
   "outputs": [
    {
     "name": "stdout",
     "output_type": "stream",
     "text": [
      "Model input shape:  48\n",
      "Model output shape:  3\n",
      "Dumped new weights for above model\n"
     ]
    }
   ],
   "source": [
    "model_name = 'CNN'\n",
    "\n",
    "from importlib.machinery import SourceFileLoader\n",
    "import pickle\n",
    "import tensorflow as tf\n",
    "\n",
    "tf.keras.backend.clear_session()\n",
    "model = SourceFileLoader(model_name, f'{model_name}.py').load_module()\n",
    "model = model.MyModel()\n",
    "#print model input and output\n",
    "print(\"Model input shape: \",int(model.input_shape[2]))\n",
    "print(\"Model output shape: \",model.output_shape[-1])\n",
    "#Dump weights\n",
    "w = model.get_weights()\n",
    "output = open(f\"{model_name}_weights.pkl\",\"wb\")\n",
    "pickle.dump(w,output)\n",
    "output.close()\n",
    "print(\"Dumped new weights for above model\")"
   ]
  },
  {
   "cell_type": "markdown",
   "id": "7d2dc521",
   "metadata": {},
   "source": [
    "# Run below cell to confirm new weights get load in model."
   ]
  },
  {
   "cell_type": "code",
   "execution_count": 6,
   "id": "59fa7b1c",
   "metadata": {
    "scrolled": true
   },
   "outputs": [
    {
     "name": "stdout",
     "output_type": "stream",
     "text": [
      "Model: \"sequential\"\n",
      "_________________________________________________________________\n",
      " Layer (type)                Output Shape              Param #   \n",
      "=================================================================\n",
      " mobilenet_1.00_48 (Function  (None, 1, 1, 1024)       3228864   \n",
      " al)                                                             \n",
      "                                                                 \n",
      " global_average_pooling2d (G  (None, 1024)             0         \n",
      " lobalAveragePooling2D)                                          \n",
      "                                                                 \n",
      " dropout (Dropout)           (None, 1024)              0         \n",
      "                                                                 \n",
      " dense (Dense)               (None, 512)               524800    \n",
      "                                                                 \n",
      " dropout_1 (Dropout)         (None, 512)               0         \n",
      "                                                                 \n",
      " dense_1 (Dense)             (None, 3)                 1539      \n",
      "                                                                 \n",
      "=================================================================\n",
      "Total params: 3,755,203\n",
      "Trainable params: 3,733,315\n",
      "Non-trainable params: 21,888\n",
      "_________________________________________________________________\n"
     ]
    }
   ],
   "source": [
    "import pickle\n",
    "#Load weights to check if it works\n",
    "w = open(f'{model_name}_weights.pkl', 'rb')\n",
    "we = pickle.load(w)\n",
    "try:\n",
    "    \n",
    "    model.set_weights(we)\n",
    "    model.summary()\n",
    "except ValueError:\n",
    "    print(\"Incompatible shape for weights uploaded.\")"
   ]
  },
  {
   "cell_type": "code",
   "execution_count": null,
   "id": "c60153f8",
   "metadata": {},
   "outputs": [],
   "source": []
  }
 ],
 "metadata": {
  "kernelspec": {
   "display_name": "Python 3",
   "language": "python",
   "name": "python3"
  },
  "language_info": {
   "codemirror_mode": {
    "name": "ipython",
    "version": 3
   },
   "file_extension": ".py",
   "mimetype": "text/x-python",
   "name": "python",
   "nbconvert_exporter": "python",
   "pygments_lexer": "ipython3",
   "version": "3.8.12"
  }
 },
 "nbformat": 4,
 "nbformat_minor": 5
}
